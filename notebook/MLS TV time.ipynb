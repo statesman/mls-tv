{
 "cells": [
  {
   "cell_type": "code",
   "execution_count": 1,
   "metadata": {
    "collapsed": true
   },
   "outputs": [],
   "source": [
    "import agate\n",
    "import warnings\n",
    "warnings.filterwarnings('ignore')"
   ]
  },
  {
   "cell_type": "code",
   "execution_count": 2,
   "metadata": {
    "collapsed": true
   },
   "outputs": [],
   "source": [
    "raw = agate.Table.from_csv('../data/mlstv.csv')"
   ]
  },
  {
   "cell_type": "code",
   "execution_count": 3,
   "metadata": {
    "collapsed": false
   },
   "outputs": [
    {
     "name": "stdout",
     "output_type": "stream",
     "text": [
      "| column    | data_type |\n",
      "| --------- | --------- |\n",
      "| Date Time | DateTime  |\n",
      "| Date      | Date      |\n",
      "| Match     | Text      |\n",
      "| Station   | Text      |\n",
      "| Spanish   | Boolean   |\n",
      "| Visitor   | Text      |\n",
      "| Home      | Text      |\n",
      "\n"
     ]
    }
   ],
   "source": [
    "print(raw)"
   ]
  },
  {
   "cell_type": "code",
   "execution_count": 4,
   "metadata": {
    "collapsed": false
   },
   "outputs": [
    {
     "name": "stdout",
     "output_type": "stream",
     "text": [
      "len of both: 86\n",
      "len of english: 61\n",
      "len of spanish: 25\n"
     ]
    }
   ],
   "source": [
    "both = raw\n",
    "english = raw.where(lambda r: r['Spanish'] is False)\n",
    "spanish = raw.where(lambda r: r['Spanish'] is True)\n",
    "print('len of both: {}'.format(len(both)))\n",
    "print('len of english: {}'.format(len(english)))\n",
    "print('len of spanish: {}'.format(len(spanish)))\n"
   ]
  },
  {
   "cell_type": "markdown",
   "metadata": {},
   "source": [
    "## All National TV"
   ]
  },
  {
   "cell_type": "code",
   "execution_count": 5,
   "metadata": {
    "collapsed": false
   },
   "outputs": [
    {
     "name": "stdout",
     "output_type": "stream",
     "text": [
      "len of visitor: 86\n",
      "len of home: 86\n",
      "len of teams: 172\n",
      "\n",
      "| team                   | Count |\n",
      "| ---------------------- | ----- |\n",
      "| Atlanta United         |    16 |\n",
      "| LAFC                   |    16 |\n",
      "| New York City FC       |    14 |\n",
      "| New York Red Bulls     |    14 |\n",
      "| LA Galaxy              |    13 |\n",
      "| Orlando City SC        |    13 |\n",
      "| Seattle Sounders       |    13 |\n",
      "| Portland Timbers       |    12 |\n",
      "| D.C. United            |    12 |\n",
      "| Sporting Kansas City   |     7 |\n",
      "| Chicago Fire           |     7 |\n",
      "| FC Dallas              |     7 |\n",
      "| Houston Dynamo         |     6 |\n",
      "| San Jose Earthquakes   |     5 |\n",
      "| Toronto FC             |     4 |\n",
      "| Philadelphia Union     |     3 |\n",
      "| Colorado Rapids        |     2 |\n",
      "| Columbus Crew SC       |     2 |\n",
      "| Real Salt Lake         |     2 |\n",
      "| Minnesota United FC    |     2 |\n",
      "| New England Revolution |     2 |\n"
     ]
    },
    {
     "data": {
      "image/svg+xml": [
       "<svg height=\"600\" version=\"1.1\" width=\"800\" xmlns=\"http://www.w3.org/2000/svg\"><g><rect fill=\"#f9f9f9\" height=\"600\" width=\"800\" x=\"0\" y=\"0\"/><g transform=\"translate(40 40)\"><g transform=\"translate(214 0)\"/><g transform=\"translate(0 0)\"><g transform=\"translate(214 0)\"><g class=\"axis bottom\"><text dy=\"1em\" fill=\"#666\" font-family=\"Monaco\" text-anchor=\"middle\" transform=\"\" x=\"253.0\" y=\"506.0\">Count</text><g class=\"tick\"><line stroke=\"#eee\" stroke-width=\"1\" x1=\"126.50\" x2=\"126.50\" y1=\"0\" y2=\"472.0\"/><text dy=\"1em\" fill=\"#9c9c9c\" font-family=\"Monaco\" text-anchor=\"middle\" x=\"126.50\" y=\"476.0\">5</text></g><g class=\"tick\"><line stroke=\"#eee\" stroke-width=\"1\" x1=\"253.0\" x2=\"253.0\" y1=\"0\" y2=\"472.0\"/><text dy=\"1em\" fill=\"#9c9c9c\" font-family=\"Monaco\" text-anchor=\"middle\" x=\"253.0\" y=\"476.0\">10</text></g><g class=\"tick\"><line stroke=\"#eee\" stroke-width=\"1\" x1=\"379.50\" x2=\"379.50\" y1=\"0\" y2=\"472.0\"/><text dy=\"1em\" fill=\"#9c9c9c\" font-family=\"Monaco\" text-anchor=\"middle\" x=\"379.50\" y=\"476.0\">15</text></g><g class=\"tick\"><line stroke=\"#eee\" stroke-width=\"1\" x1=\"506\" x2=\"506\" y1=\"0\" y2=\"472.0\"/><text dy=\"1em\" fill=\"#9c9c9c\" font-family=\"Monaco\" text-anchor=\"middle\" x=\"506\" y=\"476.0\">20</text></g><g class=\"tick\"><line stroke=\"#a8a8a8\" stroke-width=\"1\" x1=\"0\" x2=\"0\" y1=\"0\" y2=\"472.0\"/><text dy=\"1em\" fill=\"#9c9c9c\" font-family=\"Monaco\" text-anchor=\"middle\" x=\"0\" y=\"476.0\">0</text></g></g><g class=\"axis left\"><text dy=\"\" fill=\"#666\" font-family=\"Monaco\" text-anchor=\"middle\" transform=\"rotate(270 -192 234)\" x=\"-192\" y=\"234.0\">team</text><g class=\"tick\"><line stroke=\"#eee\" stroke-width=\"1\" x1=\"-4\" x2=\"506.0\" y1=\"456.8571428571428571428571429\" y2=\"456.8571428571428571428571429\"/><text dy=\"0.32em\" fill=\"#9c9c9c\" font-family=\"Monaco\" text-anchor=\"end\" x=\"-8\" y=\"456.8571428571428571428571429\">New England Revolution</text></g><g class=\"tick\"><line stroke=\"#eee\" stroke-width=\"1\" x1=\"-4\" x2=\"506.0\" y1=\"434.5714285714285714285714286\" y2=\"434.5714285714285714285714286\"/><text dy=\"0.32em\" fill=\"#9c9c9c\" font-family=\"Monaco\" text-anchor=\"end\" x=\"-8\" y=\"434.5714285714285714285714286\">Minnesota United FC</text></g><g class=\"tick\"><line stroke=\"#eee\" stroke-width=\"1\" x1=\"-4\" x2=\"506.0\" y1=\"412.2857142857142857142857143\" y2=\"412.2857142857142857142857143\"/><text dy=\"0.32em\" fill=\"#9c9c9c\" font-family=\"Monaco\" text-anchor=\"end\" x=\"-8\" y=\"412.2857142857142857142857143\">Real Salt Lake</text></g><g class=\"tick\"><line stroke=\"#eee\" stroke-width=\"1\" x1=\"-4\" x2=\"506.0\" y1=\"390.0000000000000000000000000\" y2=\"390.0000000000000000000000000\"/><text dy=\"0.32em\" fill=\"#9c9c9c\" font-family=\"Monaco\" text-anchor=\"end\" x=\"-8\" y=\"390.0000000000000000000000000\">Columbus Crew SC</text></g><g class=\"tick\"><line stroke=\"#eee\" stroke-width=\"1\" x1=\"-4\" x2=\"506.0\" y1=\"367.7142857142857142857142857\" y2=\"367.7142857142857142857142857\"/><text dy=\"0.32em\" fill=\"#9c9c9c\" font-family=\"Monaco\" text-anchor=\"end\" x=\"-8\" y=\"367.7142857142857142857142857\">Colorado Rapids</text></g><g class=\"tick\"><line stroke=\"#eee\" stroke-width=\"1\" x1=\"-4\" x2=\"506.0\" y1=\"345.4285714285714285714285715\" y2=\"345.4285714285714285714285715\"/><text dy=\"0.32em\" fill=\"#9c9c9c\" font-family=\"Monaco\" text-anchor=\"end\" x=\"-8\" y=\"345.4285714285714285714285715\">Philadelphia Union</text></g><g class=\"tick\"><line stroke=\"#eee\" stroke-width=\"1\" x1=\"-4\" x2=\"506.0\" y1=\"323.1428571428571428571428572\" y2=\"323.1428571428571428571428572\"/><text dy=\"0.32em\" fill=\"#9c9c9c\" font-family=\"Monaco\" text-anchor=\"end\" x=\"-8\" y=\"323.1428571428571428571428572\">Toronto FC</text></g><g class=\"tick\"><line stroke=\"#eee\" stroke-width=\"1\" x1=\"-4\" x2=\"506.0\" y1=\"300.8571428571428571428571429\" y2=\"300.8571428571428571428571429\"/><text dy=\"0.32em\" fill=\"#9c9c9c\" font-family=\"Monaco\" text-anchor=\"end\" x=\"-8\" y=\"300.8571428571428571428571429\">San Jose Earthquakes</text></g><g class=\"tick\"><line stroke=\"#eee\" stroke-width=\"1\" x1=\"-4\" x2=\"506.0\" y1=\"278.5714285714285714285714286\" y2=\"278.5714285714285714285714286\"/><text dy=\"0.32em\" fill=\"#9c9c9c\" font-family=\"Monaco\" text-anchor=\"end\" x=\"-8\" y=\"278.5714285714285714285714286\">Houston Dynamo</text></g><g class=\"tick\"><line stroke=\"#eee\" stroke-width=\"1\" x1=\"-4\" x2=\"506.0\" y1=\"256.2857142857142857142857143\" y2=\"256.2857142857142857142857143\"/><text dy=\"0.32em\" fill=\"#9c9c9c\" font-family=\"Monaco\" text-anchor=\"end\" x=\"-8\" y=\"256.2857142857142857142857143\">FC Dallas</text></g><g class=\"tick\"><line stroke=\"#eee\" stroke-width=\"1\" x1=\"-4\" x2=\"506.0\" y1=\"234.0000000000000000000000000\" y2=\"234.0000000000000000000000000\"/><text dy=\"0.32em\" fill=\"#9c9c9c\" font-family=\"Monaco\" text-anchor=\"end\" x=\"-8\" y=\"234.0000000000000000000000000\">Chicago Fire</text></g><g class=\"tick\"><line stroke=\"#eee\" stroke-width=\"1\" x1=\"-4\" x2=\"506.0\" y1=\"211.7142857142857142857142857\" y2=\"211.7142857142857142857142857\"/><text dy=\"0.32em\" fill=\"#9c9c9c\" font-family=\"Monaco\" text-anchor=\"end\" x=\"-8\" y=\"211.7142857142857142857142857\">Sporting Kansas City</text></g><g class=\"tick\"><line stroke=\"#eee\" stroke-width=\"1\" x1=\"-4\" x2=\"506.0\" y1=\"189.4285714285714285714285714\" y2=\"189.4285714285714285714285714\"/><text dy=\"0.32em\" fill=\"#9c9c9c\" font-family=\"Monaco\" text-anchor=\"end\" x=\"-8\" y=\"189.4285714285714285714285714\">D.C. United</text></g><g class=\"tick\"><line stroke=\"#eee\" stroke-width=\"1\" x1=\"-4\" x2=\"506.0\" y1=\"167.1428571428571428571428571\" y2=\"167.1428571428571428571428571\"/><text dy=\"0.32em\" fill=\"#9c9c9c\" font-family=\"Monaco\" text-anchor=\"end\" x=\"-8\" y=\"167.1428571428571428571428571\">Portland Timbers</text></g><g class=\"tick\"><line stroke=\"#eee\" stroke-width=\"1\" x1=\"-4\" x2=\"506.0\" y1=\"144.8571428571428571428571428\" y2=\"144.8571428571428571428571428\"/><text dy=\"0.32em\" fill=\"#9c9c9c\" font-family=\"Monaco\" text-anchor=\"end\" x=\"-8\" y=\"144.8571428571428571428571428\">Seattle Sounders</text></g><g class=\"tick\"><line stroke=\"#eee\" stroke-width=\"1\" x1=\"-4\" x2=\"506.0\" y1=\"122.5714285714285714285714285\" y2=\"122.5714285714285714285714285\"/><text dy=\"0.32em\" fill=\"#9c9c9c\" font-family=\"Monaco\" text-anchor=\"end\" x=\"-8\" y=\"122.5714285714285714285714285\">Orlando City SC</text></g><g class=\"tick\"><line stroke=\"#eee\" stroke-width=\"1\" x1=\"-4\" x2=\"506.0\" y1=\"100.2857142857142857142857143\" y2=\"100.2857142857142857142857143\"/><text dy=\"0.32em\" fill=\"#9c9c9c\" font-family=\"Monaco\" text-anchor=\"end\" x=\"-8\" y=\"100.2857142857142857142857143\">LA Galaxy</text></g><g class=\"tick\"><line stroke=\"#eee\" stroke-width=\"1\" x1=\"-4\" x2=\"506.0\" y1=\"77.99999999999999999999999996\" y2=\"77.99999999999999999999999996\"/><text dy=\"0.32em\" fill=\"#9c9c9c\" font-family=\"Monaco\" text-anchor=\"end\" x=\"-8\" y=\"77.99999999999999999999999996\">New York Red Bulls</text></g><g class=\"tick\"><line stroke=\"#eee\" stroke-width=\"1\" x1=\"-4\" x2=\"506.0\" y1=\"55.71428571428571428571428566\" y2=\"55.71428571428571428571428566\"/><text dy=\"0.32em\" fill=\"#9c9c9c\" font-family=\"Monaco\" text-anchor=\"end\" x=\"-8\" y=\"55.71428571428571428571428566\">New York City FC</text></g><g class=\"tick\"><line stroke=\"#eee\" stroke-width=\"1\" x1=\"-4\" x2=\"506.0\" y1=\"33.42857142857142857142857136\" y2=\"33.42857142857142857142857136\"/><text dy=\"0.32em\" fill=\"#9c9c9c\" font-family=\"Monaco\" text-anchor=\"end\" x=\"-8\" y=\"33.42857142857142857142857136\">LAFC</text></g><g class=\"tick\"><line stroke=\"#eee\" stroke-width=\"1\" x1=\"-4\" x2=\"506.0\" y1=\"11.14285714285714285714285706\" y2=\"11.14285714285714285714285706\"/><text dy=\"0.32em\" fill=\"#9c9c9c\" font-family=\"Monaco\" text-anchor=\"end\" x=\"-8\" y=\"11.14285714285714285714285706\">Atlanta United</text></g></g><g><g class=\"series bars\"><rect fill=\"#e41a1c\" height=\"20.0571428571428571428571429\" width=\"50.6\" x=\"0\" y=\"446.8285714285714285714285714\"/><rect fill=\"#e41a1c\" height=\"20.0571428571428571428571429\" width=\"50.6\" x=\"0\" y=\"424.5428571428571428571428571\"/><rect fill=\"#e41a1c\" height=\"20.0571428571428571428571429\" width=\"50.6\" x=\"0\" y=\"402.2571428571428571428571428\"/><rect fill=\"#e41a1c\" height=\"20.0571428571428571428571429\" width=\"50.6\" x=\"0\" y=\"379.9714285714285714285714285\"/><rect fill=\"#e41a1c\" height=\"20.0571428571428571428571428\" width=\"50.6\" x=\"0\" y=\"357.6857142857142857142857143\"/><rect fill=\"#e41a1c\" height=\"20.0571428571428571428571429\" width=\"75.90\" x=\"0\" y=\"335.4000000000000000000000000\"/><rect fill=\"#e41a1c\" height=\"20.0571428571428571428571429\" width=\"101.2\" x=\"0\" y=\"313.1142857142857142857142857\"/><rect fill=\"#e41a1c\" height=\"20.0571428571428571428571429\" width=\"126.50\" x=\"0\" y=\"290.8285714285714285714285714\"/><rect fill=\"#e41a1c\" height=\"20.0571428571428571428571429\" width=\"151.8\" x=\"0\" y=\"268.5428571428571428571428571\"/><rect fill=\"#e41a1c\" height=\"20.0571428571428571428571429\" width=\"177.10\" x=\"0\" y=\"246.2571428571428571428571428\"/><rect fill=\"#e41a1c\" height=\"20.0571428571428571428571429\" width=\"177.10\" x=\"0\" y=\"223.9714285714285714285714285\"/><rect fill=\"#e41a1c\" height=\"20.0571428571428571428571429\" width=\"177.10\" x=\"0\" y=\"201.6857142857142857142857142\"/><rect fill=\"#e41a1c\" height=\"20.0571428571428571428571429\" width=\"303.6\" x=\"0\" y=\"179.3999999999999999999999999\"/><rect fill=\"#e41a1c\" height=\"20.0571428571428571428571429\" width=\"303.6\" x=\"0\" y=\"157.1142857142857142857142856\"/><rect fill=\"#e41a1c\" height=\"20.0571428571428571428571429\" width=\"328.90\" x=\"0\" y=\"134.8285714285714285714285713\"/><rect fill=\"#e41a1c\" height=\"20.0571428571428571428571428\" width=\"328.90\" x=\"0\" y=\"112.5428571428571428571428571\"/><rect fill=\"#e41a1c\" height=\"20.05714285714285714285714289\" width=\"328.90\" x=\"0\" y=\"90.25714285714285714285714281\"/><rect fill=\"#e41a1c\" height=\"20.05714285714285714285714288\" width=\"354.2\" x=\"0\" y=\"67.97142857142857142857142851\"/><rect fill=\"#e41a1c\" height=\"20.05714285714285714285714288\" width=\"354.2\" x=\"0\" y=\"45.68571428571428571428571421\"/><rect fill=\"#e41a1c\" height=\"20.05714285714285714285714288\" width=\"404.8\" x=\"0\" y=\"23.39999999999999999999999991\"/><rect fill=\"#e41a1c\" height=\"20.05714285714285714285714288\" width=\"404.8\" x=\"0\" y=\"1.114285714285714285714285614\"/></g></g></g></g></g></g></svg>"
      ],
      "text/plain": [
       "<IPython.core.display.SVG object>"
      ]
     },
     "execution_count": 5,
     "metadata": {},
     "output_type": "execute_result"
    }
   ],
   "source": [
    "visitor = both.select(['Visitor', 'Date']).rename(column_names = ['team', 'date'])\n",
    "home = both.select(['Home', 'Date']).rename(column_names = ['team', 'date'])\n",
    "teams = agate.Table.merge([visitor, home])\n",
    "\n",
    "print('len of visitor: {}'.format(len(visitor)))\n",
    "print('len of home: {}'.format(len(home)))\n",
    "print('len of teams: {}\\n'.format(len(teams)))\n",
    "\n",
    "teams_pivot = teams.pivot('team')\n",
    "teams_chart = teams_pivot.order_by('Count', reverse=True)\n",
    "teams_chart.print_table(max_rows=None, max_column_width=None)\n",
    "teams_chart.bar_chart('team', 'Count')"
   ]
  },
  {
   "cell_type": "markdown",
   "metadata": {},
   "source": [
    "## English language"
   ]
  },
  {
   "cell_type": "code",
   "execution_count": 6,
   "metadata": {
    "collapsed": false
   },
   "outputs": [
    {
     "name": "stdout",
     "output_type": "stream",
     "text": [
      "len of en_visitor: 61\n",
      "len of en_home: 61\n",
      "len of en_teams: 122\n",
      "\n",
      "| team                 | Count |\n",
      "| -------------------- | ----- |\n",
      "| Seattle Sounders     |    13 |\n",
      "| Atlanta United       |    12 |\n",
      "| LAFC                 |    12 |\n",
      "| Portland Timbers     |    11 |\n",
      "| Orlando City SC      |    11 |\n",
      "| New York City FC     |    11 |\n",
      "| New York Red Bulls   |    10 |\n",
      "| LA Galaxy            |     9 |\n",
      "| D.C. United          |     8 |\n",
      "| Sporting Kansas City |     7 |\n",
      "| Toronto FC           |     4 |\n",
      "| Chicago Fire         |     2 |\n",
      "| Philadelphia Union   |     2 |\n",
      "| Columbus Crew SC     |     2 |\n",
      "| Minnesota United FC  |     2 |\n",
      "| San Jose Earthquakes |     1 |\n",
      "| Colorado Rapids      |     1 |\n",
      "| FC Dallas            |     1 |\n",
      "| New England Revol... |     1 |\n",
      "| Real Salt Lake       |     1 |\n",
      "| Houston Dynamo       |     1 |\n"
     ]
    },
    {
     "data": {
      "image/svg+xml": [
       "<svg height=\"600\" version=\"1.1\" width=\"800\" xmlns=\"http://www.w3.org/2000/svg\"><g><rect fill=\"#f9f9f9\" height=\"600\" width=\"800\" x=\"0\" y=\"0\"/><g transform=\"translate(40 40)\"><g transform=\"translate(214 0)\"/><g transform=\"translate(0 0)\"><g transform=\"translate(214 0)\"><g class=\"axis bottom\"><text dy=\"1em\" fill=\"#666\" font-family=\"Monaco\" text-anchor=\"middle\" transform=\"\" x=\"253.0\" y=\"506.0\">Count</text><g class=\"tick\"><line stroke=\"#eee\" stroke-width=\"1\" x1=\"168.6666666666666666666666666\" x2=\"168.6666666666666666666666666\" y1=\"0\" y2=\"472.0\"/><text dy=\"1em\" fill=\"#9c9c9c\" font-family=\"Monaco\" text-anchor=\"middle\" x=\"168.6666666666666666666666666\" y=\"476.0\">5</text></g><g class=\"tick\"><line stroke=\"#eee\" stroke-width=\"1\" x1=\"337.3333333333333333333333334\" x2=\"337.3333333333333333333333334\" y1=\"0\" y2=\"472.0\"/><text dy=\"1em\" fill=\"#9c9c9c\" font-family=\"Monaco\" text-anchor=\"middle\" x=\"337.3333333333333333333333334\" y=\"476.0\">10</text></g><g class=\"tick\"><line stroke=\"#eee\" stroke-width=\"1\" x1=\"506\" x2=\"506\" y1=\"0\" y2=\"472.0\"/><text dy=\"1em\" fill=\"#9c9c9c\" font-family=\"Monaco\" text-anchor=\"middle\" x=\"506\" y=\"476.0\">15</text></g><g class=\"tick\"><line stroke=\"#a8a8a8\" stroke-width=\"1\" x1=\"0\" x2=\"0\" y1=\"0\" y2=\"472.0\"/><text dy=\"1em\" fill=\"#9c9c9c\" font-family=\"Monaco\" text-anchor=\"middle\" x=\"0\" y=\"476.0\">0</text></g></g><g class=\"axis left\"><text dy=\"\" fill=\"#666\" font-family=\"Monaco\" text-anchor=\"middle\" transform=\"rotate(270 -192 234)\" x=\"-192\" y=\"234.0\">team</text><g class=\"tick\"><line stroke=\"#eee\" stroke-width=\"1\" x1=\"-4\" x2=\"506.0\" y1=\"456.8571428571428571428571429\" y2=\"456.8571428571428571428571429\"/><text dy=\"0.32em\" fill=\"#9c9c9c\" font-family=\"Monaco\" text-anchor=\"end\" x=\"-8\" y=\"456.8571428571428571428571429\">Houston Dynamo</text></g><g class=\"tick\"><line stroke=\"#eee\" stroke-width=\"1\" x1=\"-4\" x2=\"506.0\" y1=\"434.5714285714285714285714286\" y2=\"434.5714285714285714285714286\"/><text dy=\"0.32em\" fill=\"#9c9c9c\" font-family=\"Monaco\" text-anchor=\"end\" x=\"-8\" y=\"434.5714285714285714285714286\">Real Salt Lake</text></g><g class=\"tick\"><line stroke=\"#eee\" stroke-width=\"1\" x1=\"-4\" x2=\"506.0\" y1=\"412.2857142857142857142857143\" y2=\"412.2857142857142857142857143\"/><text dy=\"0.32em\" fill=\"#9c9c9c\" font-family=\"Monaco\" text-anchor=\"end\" x=\"-8\" y=\"412.2857142857142857142857143\">New England Revolution</text></g><g class=\"tick\"><line stroke=\"#eee\" stroke-width=\"1\" x1=\"-4\" x2=\"506.0\" y1=\"390.0000000000000000000000000\" y2=\"390.0000000000000000000000000\"/><text dy=\"0.32em\" fill=\"#9c9c9c\" font-family=\"Monaco\" text-anchor=\"end\" x=\"-8\" y=\"390.0000000000000000000000000\">FC Dallas</text></g><g class=\"tick\"><line stroke=\"#eee\" stroke-width=\"1\" x1=\"-4\" x2=\"506.0\" y1=\"367.7142857142857142857142857\" y2=\"367.7142857142857142857142857\"/><text dy=\"0.32em\" fill=\"#9c9c9c\" font-family=\"Monaco\" text-anchor=\"end\" x=\"-8\" y=\"367.7142857142857142857142857\">Colorado Rapids</text></g><g class=\"tick\"><line stroke=\"#eee\" stroke-width=\"1\" x1=\"-4\" x2=\"506.0\" y1=\"345.4285714285714285714285715\" y2=\"345.4285714285714285714285715\"/><text dy=\"0.32em\" fill=\"#9c9c9c\" font-family=\"Monaco\" text-anchor=\"end\" x=\"-8\" y=\"345.4285714285714285714285715\">San Jose Earthquakes</text></g><g class=\"tick\"><line stroke=\"#eee\" stroke-width=\"1\" x1=\"-4\" x2=\"506.0\" y1=\"323.1428571428571428571428572\" y2=\"323.1428571428571428571428572\"/><text dy=\"0.32em\" fill=\"#9c9c9c\" font-family=\"Monaco\" text-anchor=\"end\" x=\"-8\" y=\"323.1428571428571428571428572\">Minnesota United FC</text></g><g class=\"tick\"><line stroke=\"#eee\" stroke-width=\"1\" x1=\"-4\" x2=\"506.0\" y1=\"300.8571428571428571428571429\" y2=\"300.8571428571428571428571429\"/><text dy=\"0.32em\" fill=\"#9c9c9c\" font-family=\"Monaco\" text-anchor=\"end\" x=\"-8\" y=\"300.8571428571428571428571429\">Columbus Crew SC</text></g><g class=\"tick\"><line stroke=\"#eee\" stroke-width=\"1\" x1=\"-4\" x2=\"506.0\" y1=\"278.5714285714285714285714286\" y2=\"278.5714285714285714285714286\"/><text dy=\"0.32em\" fill=\"#9c9c9c\" font-family=\"Monaco\" text-anchor=\"end\" x=\"-8\" y=\"278.5714285714285714285714286\">Philadelphia Union</text></g><g class=\"tick\"><line stroke=\"#eee\" stroke-width=\"1\" x1=\"-4\" x2=\"506.0\" y1=\"256.2857142857142857142857143\" y2=\"256.2857142857142857142857143\"/><text dy=\"0.32em\" fill=\"#9c9c9c\" font-family=\"Monaco\" text-anchor=\"end\" x=\"-8\" y=\"256.2857142857142857142857143\">Chicago Fire</text></g><g class=\"tick\"><line stroke=\"#eee\" stroke-width=\"1\" x1=\"-4\" x2=\"506.0\" y1=\"234.0000000000000000000000000\" y2=\"234.0000000000000000000000000\"/><text dy=\"0.32em\" fill=\"#9c9c9c\" font-family=\"Monaco\" text-anchor=\"end\" x=\"-8\" y=\"234.0000000000000000000000000\">Toronto FC</text></g><g class=\"tick\"><line stroke=\"#eee\" stroke-width=\"1\" x1=\"-4\" x2=\"506.0\" y1=\"211.7142857142857142857142857\" y2=\"211.7142857142857142857142857\"/><text dy=\"0.32em\" fill=\"#9c9c9c\" font-family=\"Monaco\" text-anchor=\"end\" x=\"-8\" y=\"211.7142857142857142857142857\">Sporting Kansas City</text></g><g class=\"tick\"><line stroke=\"#eee\" stroke-width=\"1\" x1=\"-4\" x2=\"506.0\" y1=\"189.4285714285714285714285714\" y2=\"189.4285714285714285714285714\"/><text dy=\"0.32em\" fill=\"#9c9c9c\" font-family=\"Monaco\" text-anchor=\"end\" x=\"-8\" y=\"189.4285714285714285714285714\">D.C. United</text></g><g class=\"tick\"><line stroke=\"#eee\" stroke-width=\"1\" x1=\"-4\" x2=\"506.0\" y1=\"167.1428571428571428571428571\" y2=\"167.1428571428571428571428571\"/><text dy=\"0.32em\" fill=\"#9c9c9c\" font-family=\"Monaco\" text-anchor=\"end\" x=\"-8\" y=\"167.1428571428571428571428571\">LA Galaxy</text></g><g class=\"tick\"><line stroke=\"#eee\" stroke-width=\"1\" x1=\"-4\" x2=\"506.0\" y1=\"144.8571428571428571428571428\" y2=\"144.8571428571428571428571428\"/><text dy=\"0.32em\" fill=\"#9c9c9c\" font-family=\"Monaco\" text-anchor=\"end\" x=\"-8\" y=\"144.8571428571428571428571428\">New York Red Bulls</text></g><g class=\"tick\"><line stroke=\"#eee\" stroke-width=\"1\" x1=\"-4\" x2=\"506.0\" y1=\"122.5714285714285714285714285\" y2=\"122.5714285714285714285714285\"/><text dy=\"0.32em\" fill=\"#9c9c9c\" font-family=\"Monaco\" text-anchor=\"end\" x=\"-8\" y=\"122.5714285714285714285714285\">New York City FC</text></g><g class=\"tick\"><line stroke=\"#eee\" stroke-width=\"1\" x1=\"-4\" x2=\"506.0\" y1=\"100.2857142857142857142857143\" y2=\"100.2857142857142857142857143\"/><text dy=\"0.32em\" fill=\"#9c9c9c\" font-family=\"Monaco\" text-anchor=\"end\" x=\"-8\" y=\"100.2857142857142857142857143\">Orlando City SC</text></g><g class=\"tick\"><line stroke=\"#eee\" stroke-width=\"1\" x1=\"-4\" x2=\"506.0\" y1=\"77.99999999999999999999999996\" y2=\"77.99999999999999999999999996\"/><text dy=\"0.32em\" fill=\"#9c9c9c\" font-family=\"Monaco\" text-anchor=\"end\" x=\"-8\" y=\"77.99999999999999999999999996\">Portland Timbers</text></g><g class=\"tick\"><line stroke=\"#eee\" stroke-width=\"1\" x1=\"-4\" x2=\"506.0\" y1=\"55.71428571428571428571428566\" y2=\"55.71428571428571428571428566\"/><text dy=\"0.32em\" fill=\"#9c9c9c\" font-family=\"Monaco\" text-anchor=\"end\" x=\"-8\" y=\"55.71428571428571428571428566\">LAFC</text></g><g class=\"tick\"><line stroke=\"#eee\" stroke-width=\"1\" x1=\"-4\" x2=\"506.0\" y1=\"33.42857142857142857142857136\" y2=\"33.42857142857142857142857136\"/><text dy=\"0.32em\" fill=\"#9c9c9c\" font-family=\"Monaco\" text-anchor=\"end\" x=\"-8\" y=\"33.42857142857142857142857136\">Atlanta United</text></g><g class=\"tick\"><line stroke=\"#eee\" stroke-width=\"1\" x1=\"-4\" x2=\"506.0\" y1=\"11.14285714285714285714285706\" y2=\"11.14285714285714285714285706\"/><text dy=\"0.32em\" fill=\"#9c9c9c\" font-family=\"Monaco\" text-anchor=\"end\" x=\"-8\" y=\"11.14285714285714285714285706\">Seattle Sounders</text></g></g><g><g class=\"series bars\"><rect fill=\"#e41a1c\" height=\"20.0571428571428571428571429\" width=\"33.73333333333333333333333334\" x=\"0\" y=\"446.8285714285714285714285714\"/><rect fill=\"#e41a1c\" height=\"20.0571428571428571428571429\" width=\"33.73333333333333333333333334\" x=\"0\" y=\"424.5428571428571428571428571\"/><rect fill=\"#e41a1c\" height=\"20.0571428571428571428571429\" width=\"33.73333333333333333333333334\" x=\"0\" y=\"402.2571428571428571428571428\"/><rect fill=\"#e41a1c\" height=\"20.0571428571428571428571429\" width=\"33.73333333333333333333333334\" x=\"0\" y=\"379.9714285714285714285714285\"/><rect fill=\"#e41a1c\" height=\"20.0571428571428571428571428\" width=\"33.73333333333333333333333334\" x=\"0\" y=\"357.6857142857142857142857143\"/><rect fill=\"#e41a1c\" height=\"20.0571428571428571428571429\" width=\"33.73333333333333333333333334\" x=\"0\" y=\"335.4000000000000000000000000\"/><rect fill=\"#e41a1c\" height=\"20.0571428571428571428571429\" width=\"67.46666666666666666666666665\" x=\"0\" y=\"313.1142857142857142857142857\"/><rect fill=\"#e41a1c\" height=\"20.0571428571428571428571429\" width=\"67.46666666666666666666666665\" x=\"0\" y=\"290.8285714285714285714285714\"/><rect fill=\"#e41a1c\" height=\"20.0571428571428571428571429\" width=\"67.46666666666666666666666665\" x=\"0\" y=\"268.5428571428571428571428571\"/><rect fill=\"#e41a1c\" height=\"20.0571428571428571428571429\" width=\"67.46666666666666666666666665\" x=\"0\" y=\"246.2571428571428571428571428\"/><rect fill=\"#e41a1c\" height=\"20.0571428571428571428571429\" width=\"134.9333333333333333333333334\" x=\"0\" y=\"223.9714285714285714285714285\"/><rect fill=\"#e41a1c\" height=\"20.0571428571428571428571429\" width=\"236.1333333333333333333333334\" x=\"0\" y=\"201.6857142857142857142857142\"/><rect fill=\"#e41a1c\" height=\"20.0571428571428571428571429\" width=\"269.8666666666666666666666666\" x=\"0\" y=\"179.3999999999999999999999999\"/><rect fill=\"#e41a1c\" height=\"20.0571428571428571428571429\" width=\"303.6\" x=\"0\" y=\"157.1142857142857142857142856\"/><rect fill=\"#e41a1c\" height=\"20.0571428571428571428571429\" width=\"337.3333333333333333333333334\" x=\"0\" y=\"134.8285714285714285714285713\"/><rect fill=\"#e41a1c\" height=\"20.0571428571428571428571428\" width=\"371.0666666666666666666666666\" x=\"0\" y=\"112.5428571428571428571428571\"/><rect fill=\"#e41a1c\" height=\"20.05714285714285714285714289\" width=\"371.0666666666666666666666666\" x=\"0\" y=\"90.25714285714285714285714281\"/><rect fill=\"#e41a1c\" height=\"20.05714285714285714285714288\" width=\"371.0666666666666666666666666\" x=\"0\" y=\"67.97142857142857142857142851\"/><rect fill=\"#e41a1c\" height=\"20.05714285714285714285714288\" width=\"404.8\" x=\"0\" y=\"45.68571428571428571428571421\"/><rect fill=\"#e41a1c\" height=\"20.05714285714285714285714288\" width=\"404.8\" x=\"0\" y=\"23.39999999999999999999999991\"/><rect fill=\"#e41a1c\" height=\"20.05714285714285714285714288\" width=\"438.5333333333333333333333334\" x=\"0\" y=\"1.114285714285714285714285614\"/></g></g></g></g></g></g></svg>"
      ],
      "text/plain": [
       "<IPython.core.display.SVG object>"
      ]
     },
     "execution_count": 6,
     "metadata": {},
     "output_type": "execute_result"
    }
   ],
   "source": [
    "en_visitor = english.select(['Visitor', 'Date']).rename(column_names = ['team', 'date'])\n",
    "en_home = english.select(['Home', 'Date']).rename(column_names = ['team', 'date'])\n",
    "en_teams = agate.Table.merge([en_visitor, en_home])\n",
    "\n",
    "print('len of en_visitor: {}'.format(len(en_visitor)))\n",
    "print('len of en_home: {}'.format(len(en_home)))\n",
    "print('len of en_teams: {}\\n'.format(len(en_teams)))\n",
    "\n",
    "en_teams_pivot = en_teams.pivot('team')\n",
    "en_teams_chart = en_teams_pivot.order_by('Count', reverse=True)\n",
    "en_teams_chart.print_table(max_rows=None)\n",
    "en_teams_chart.bar_chart('team', 'Count')"
   ]
  },
  {
   "cell_type": "markdown",
   "metadata": {},
   "source": [
    "## Spanish language"
   ]
  },
  {
   "cell_type": "code",
   "execution_count": 7,
   "metadata": {
    "collapsed": false
   },
   "outputs": [
    {
     "name": "stdout",
     "output_type": "stream",
     "text": [
      "len of es_visitor: 25\n",
      "len of es_home: 25\n",
      "len of es_teams: 50\n",
      "\n",
      "| team                 | Count |\n",
      "| -------------------- | ----- |\n",
      "| FC Dallas            |     6 |\n",
      "| Houston Dynamo       |     5 |\n",
      "| Chicago Fire         |     5 |\n",
      "| New York Red Bulls   |     4 |\n",
      "| LAFC                 |     4 |\n",
      "| LA Galaxy            |     4 |\n",
      "| San Jose Earthquakes |     4 |\n",
      "| Atlanta United       |     4 |\n",
      "| D.C. United          |     4 |\n",
      "| New York City FC     |     3 |\n",
      "| Orlando City SC      |     2 |\n",
      "| Real Salt Lake       |     1 |\n",
      "| Philadelphia Union   |     1 |\n",
      "| Colorado Rapids      |     1 |\n",
      "| Portland Timbers     |     1 |\n",
      "| New England Revol... |     1 |\n"
     ]
    },
    {
     "data": {
      "image/svg+xml": [
       "<svg height=\"600\" version=\"1.1\" width=\"800\" xmlns=\"http://www.w3.org/2000/svg\"><g><rect fill=\"#f9f9f9\" height=\"600\" width=\"800\" x=\"0\" y=\"0\"/><g transform=\"translate(40 40)\"><g transform=\"translate(214 0)\"/><g transform=\"translate(0 0)\"><g transform=\"translate(214 0)\"><g class=\"axis bottom\"><text dy=\"1em\" fill=\"#666\" font-family=\"Monaco\" text-anchor=\"middle\" transform=\"\" x=\"253.0\" y=\"506.0\">Count</text><g class=\"tick\"><line stroke=\"#eee\" stroke-width=\"1\" x1=\"168.6666666666666666666666666\" x2=\"168.6666666666666666666666666\" y1=\"0\" y2=\"472.0\"/><text dy=\"1em\" fill=\"#9c9c9c\" font-family=\"Monaco\" text-anchor=\"middle\" x=\"168.6666666666666666666666666\" y=\"476.0\">2</text></g><g class=\"tick\"><line stroke=\"#eee\" stroke-width=\"1\" x1=\"337.3333333333333333333333334\" x2=\"337.3333333333333333333333334\" y1=\"0\" y2=\"472.0\"/><text dy=\"1em\" fill=\"#9c9c9c\" font-family=\"Monaco\" text-anchor=\"middle\" x=\"337.3333333333333333333333334\" y=\"476.0\">4</text></g><g class=\"tick\"><line stroke=\"#eee\" stroke-width=\"1\" x1=\"506\" x2=\"506\" y1=\"0\" y2=\"472.0\"/><text dy=\"1em\" fill=\"#9c9c9c\" font-family=\"Monaco\" text-anchor=\"middle\" x=\"506\" y=\"476.0\">6</text></g><g class=\"tick\"><line stroke=\"#a8a8a8\" stroke-width=\"1\" x1=\"0\" x2=\"0\" y1=\"0\" y2=\"472.0\"/><text dy=\"1em\" fill=\"#9c9c9c\" font-family=\"Monaco\" text-anchor=\"middle\" x=\"0\" y=\"476.0\">0</text></g></g><g class=\"axis left\"><text dy=\"\" fill=\"#666\" font-family=\"Monaco\" text-anchor=\"middle\" transform=\"rotate(270 -192 234)\" x=\"-192\" y=\"234.0\">team</text><g class=\"tick\"><line stroke=\"#eee\" stroke-width=\"1\" x1=\"-4\" x2=\"506.0\" y1=\"453.375\" y2=\"453.375\"/><text dy=\"0.32em\" fill=\"#9c9c9c\" font-family=\"Monaco\" text-anchor=\"end\" x=\"-8\" y=\"453.375\">New England Revolution</text></g><g class=\"tick\"><line stroke=\"#eee\" stroke-width=\"1\" x1=\"-4\" x2=\"506.0\" y1=\"424.125\" y2=\"424.125\"/><text dy=\"0.32em\" fill=\"#9c9c9c\" font-family=\"Monaco\" text-anchor=\"end\" x=\"-8\" y=\"424.125\">Portland Timbers</text></g><g class=\"tick\"><line stroke=\"#eee\" stroke-width=\"1\" x1=\"-4\" x2=\"506.0\" y1=\"394.875\" y2=\"394.875\"/><text dy=\"0.32em\" fill=\"#9c9c9c\" font-family=\"Monaco\" text-anchor=\"end\" x=\"-8\" y=\"394.875\">Colorado Rapids</text></g><g class=\"tick\"><line stroke=\"#eee\" stroke-width=\"1\" x1=\"-4\" x2=\"506.0\" y1=\"365.625\" y2=\"365.625\"/><text dy=\"0.32em\" fill=\"#9c9c9c\" font-family=\"Monaco\" text-anchor=\"end\" x=\"-8\" y=\"365.625\">Philadelphia Union</text></g><g class=\"tick\"><line stroke=\"#eee\" stroke-width=\"1\" x1=\"-4\" x2=\"506.0\" y1=\"336.375\" y2=\"336.375\"/><text dy=\"0.32em\" fill=\"#9c9c9c\" font-family=\"Monaco\" text-anchor=\"end\" x=\"-8\" y=\"336.375\">Real Salt Lake</text></g><g class=\"tick\"><line stroke=\"#eee\" stroke-width=\"1\" x1=\"-4\" x2=\"506.0\" y1=\"307.125\" y2=\"307.125\"/><text dy=\"0.32em\" fill=\"#9c9c9c\" font-family=\"Monaco\" text-anchor=\"end\" x=\"-8\" y=\"307.125\">Orlando City SC</text></g><g class=\"tick\"><line stroke=\"#eee\" stroke-width=\"1\" x1=\"-4\" x2=\"506.0\" y1=\"277.875\" y2=\"277.875\"/><text dy=\"0.32em\" fill=\"#9c9c9c\" font-family=\"Monaco\" text-anchor=\"end\" x=\"-8\" y=\"277.875\">New York City FC</text></g><g class=\"tick\"><line stroke=\"#eee\" stroke-width=\"1\" x1=\"-4\" x2=\"506.0\" y1=\"248.625\" y2=\"248.625\"/><text dy=\"0.32em\" fill=\"#9c9c9c\" font-family=\"Monaco\" text-anchor=\"end\" x=\"-8\" y=\"248.625\">D.C. United</text></g><g class=\"tick\"><line stroke=\"#eee\" stroke-width=\"1\" x1=\"-4\" x2=\"506.0\" y1=\"219.375\" y2=\"219.375\"/><text dy=\"0.32em\" fill=\"#9c9c9c\" font-family=\"Monaco\" text-anchor=\"end\" x=\"-8\" y=\"219.375\">Atlanta United</text></g><g class=\"tick\"><line stroke=\"#eee\" stroke-width=\"1\" x1=\"-4\" x2=\"506.0\" y1=\"190.125\" y2=\"190.125\"/><text dy=\"0.32em\" fill=\"#9c9c9c\" font-family=\"Monaco\" text-anchor=\"end\" x=\"-8\" y=\"190.125\">San Jose Earthquakes</text></g><g class=\"tick\"><line stroke=\"#eee\" stroke-width=\"1\" x1=\"-4\" x2=\"506.0\" y1=\"160.875\" y2=\"160.875\"/><text dy=\"0.32em\" fill=\"#9c9c9c\" font-family=\"Monaco\" text-anchor=\"end\" x=\"-8\" y=\"160.875\">LA Galaxy</text></g><g class=\"tick\"><line stroke=\"#eee\" stroke-width=\"1\" x1=\"-4\" x2=\"506.0\" y1=\"131.625\" y2=\"131.625\"/><text dy=\"0.32em\" fill=\"#9c9c9c\" font-family=\"Monaco\" text-anchor=\"end\" x=\"-8\" y=\"131.625\">LAFC</text></g><g class=\"tick\"><line stroke=\"#eee\" stroke-width=\"1\" x1=\"-4\" x2=\"506.0\" y1=\"102.375\" y2=\"102.375\"/><text dy=\"0.32em\" fill=\"#9c9c9c\" font-family=\"Monaco\" text-anchor=\"end\" x=\"-8\" y=\"102.375\">New York Red Bulls</text></g><g class=\"tick\"><line stroke=\"#eee\" stroke-width=\"1\" x1=\"-4\" x2=\"506.0\" y1=\"73.125\" y2=\"73.125\"/><text dy=\"0.32em\" fill=\"#9c9c9c\" font-family=\"Monaco\" text-anchor=\"end\" x=\"-8\" y=\"73.125\">Chicago Fire</text></g><g class=\"tick\"><line stroke=\"#eee\" stroke-width=\"1\" x1=\"-4\" x2=\"506.0\" y1=\"43.875\" y2=\"43.875\"/><text dy=\"0.32em\" fill=\"#9c9c9c\" font-family=\"Monaco\" text-anchor=\"end\" x=\"-8\" y=\"43.875\">Houston Dynamo</text></g><g class=\"tick\"><line stroke=\"#eee\" stroke-width=\"1\" x1=\"-4\" x2=\"506.0\" y1=\"14.625\" y2=\"14.625\"/><text dy=\"0.32em\" fill=\"#9c9c9c\" font-family=\"Monaco\" text-anchor=\"end\" x=\"-8\" y=\"14.625\">FC Dallas</text></g></g><g><g class=\"series bars\"><rect fill=\"#e41a1c\" height=\"26.3250\" width=\"84.33333333333333333333333335\" x=\"0\" y=\"440.2125\"/><rect fill=\"#e41a1c\" height=\"26.3250\" width=\"84.33333333333333333333333335\" x=\"0\" y=\"410.9625\"/><rect fill=\"#e41a1c\" height=\"26.3250\" width=\"84.33333333333333333333333335\" x=\"0\" y=\"381.7125\"/><rect fill=\"#e41a1c\" height=\"26.3250\" width=\"84.33333333333333333333333335\" x=\"0\" y=\"352.4625\"/><rect fill=\"#e41a1c\" height=\"26.3250\" width=\"84.33333333333333333333333335\" x=\"0\" y=\"323.2125\"/><rect fill=\"#e41a1c\" height=\"26.3250\" width=\"168.6666666666666666666666666\" x=\"0\" y=\"293.9625\"/><rect fill=\"#e41a1c\" height=\"26.3250\" width=\"253.0\" x=\"0\" y=\"264.7125\"/><rect fill=\"#e41a1c\" height=\"26.3250\" width=\"337.3333333333333333333333334\" x=\"0\" y=\"235.4625\"/><rect fill=\"#e41a1c\" height=\"26.3250\" width=\"337.3333333333333333333333334\" x=\"0\" y=\"206.2125\"/><rect fill=\"#e41a1c\" height=\"26.3250\" width=\"337.3333333333333333333333334\" x=\"0\" y=\"176.9625\"/><rect fill=\"#e41a1c\" height=\"26.3250\" width=\"337.3333333333333333333333334\" x=\"0\" y=\"147.7125\"/><rect fill=\"#e41a1c\" height=\"26.3250\" width=\"337.3333333333333333333333334\" x=\"0\" y=\"118.4625\"/><rect fill=\"#e41a1c\" height=\"26.3250\" width=\"337.3333333333333333333333334\" x=\"0\" y=\"89.2125\"/><rect fill=\"#e41a1c\" height=\"26.3250\" width=\"421.6666666666666666666666666\" x=\"0\" y=\"59.9625\"/><rect fill=\"#e41a1c\" height=\"26.3250\" width=\"421.6666666666666666666666666\" x=\"0\" y=\"30.7125\"/><rect fill=\"#e41a1c\" height=\"26.3250\" width=\"506\" x=\"0\" y=\"1.4625\"/></g></g></g></g></g></g></svg>"
      ],
      "text/plain": [
       "<IPython.core.display.SVG object>"
      ]
     },
     "execution_count": 7,
     "metadata": {},
     "output_type": "execute_result"
    }
   ],
   "source": [
    "es_visitor = spanish.select(['Visitor', 'Date']).rename(column_names = ['team', 'date'])\n",
    "es_home = spanish.select(['Home', 'Date']).rename(column_names = ['team', 'date'])\n",
    "es_teams = agate.Table.merge([es_visitor, es_home])\n",
    "\n",
    "print('len of es_visitor: {}'.format(len(es_visitor)))\n",
    "print('len of es_home: {}'.format(len(es_home)))\n",
    "print('len of es_teams: {}\\n'.format(len(es_teams)))\n",
    "\n",
    "es_teams_pivot = es_teams.pivot('team')\n",
    "es_teams_chart = es_teams_pivot.order_by('Count', reverse=True)\n",
    "es_teams_chart.print_table(max_rows=None)\n",
    "es_teams_chart.bar_chart('team', 'Count')"
   ]
  },
  {
   "cell_type": "code",
   "execution_count": null,
   "metadata": {
    "collapsed": true
   },
   "outputs": [],
   "source": []
  }
 ],
 "metadata": {
  "kernelspec": {
   "display_name": "Python 3",
   "language": "python",
   "name": "python3"
  },
  "language_info": {
   "codemirror_mode": {
    "name": "ipython",
    "version": 3
   },
   "file_extension": ".py",
   "mimetype": "text/x-python",
   "name": "python",
   "nbconvert_exporter": "python",
   "pygments_lexer": "ipython3",
   "version": "3.5.2"
  }
 },
 "nbformat": 4,
 "nbformat_minor": 0
}
