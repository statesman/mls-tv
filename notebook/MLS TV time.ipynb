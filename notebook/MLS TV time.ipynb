{
 "cells": [
  {
   "cell_type": "markdown",
   "metadata": {},
   "source": [
    "# MLS National TV Lineup\n",
    "\n",
    "Major League Soccer announced their [2018 national TV lineup](https://www.mlssoccer.com/post/2018/01/04/mls-unveils-2018-us-and-canada-national-broadcast-schedule) on Thursday, Jan. 4th. A quick scan of the lineup seemed heavy on Atlanta, Seattle, Portland and the L.A. and N.Y. teams, but it was hard to know for sure.\n",
    "\n",
    "So I thought I would practice some analysis skills and take a look at the matchups, seeing who was favored.\n",
    "\n",
    "Goals\n",
    "- games by team\n",
    "- breakdown by language\n",
    "- Who is a home more\n",
    "\n",
    "To Do\n",
    "- This is not DRY. I need to turn the chart/table making into a function, which I could then feed the language table into it.\n",
    "- Same with figuring out match dupes ... It is not effient ... it's just how I came to it.\n",
    "\n",
    "Caveats\n",
    "- The data was scraped using the Chrome Scraper tool, inserted into a [Google Spreadsheet and cleaned up](https://docs.google.com/spreadsheets/d/e/2PACX-1vT1wVvMBp-OBmOm0tDfc6LZuPoz6D8X7NppUkHn6O51-KoIqjA67S7E9SIjaT3Oo_HT73nEeUUaz_48/pubhtml), then  downloaded as CSV."
   ]
  },
  {
   "cell_type": "code",
   "execution_count": 1,
   "metadata": {
    "collapsed": true
   },
   "outputs": [],
   "source": [
    "import agate\n",
    "import leather\n",
    "import warnings\n",
    "warnings.filterwarnings('ignore')"
   ]
  },
  {
   "cell_type": "code",
   "execution_count": 2,
   "metadata": {
    "collapsed": false
   },
   "outputs": [
    {
     "name": "stdout",
     "output_type": "stream",
     "text": [
      "| column    | data_type |\n",
      "| --------- | --------- |\n",
      "| Date Time | DateTime  |\n",
      "| Date      | Date      |\n",
      "| Match     | Text      |\n",
      "| Network   | Text      |\n",
      "| Spanish   | Boolean   |\n",
      "| Home      | Text      |\n",
      "| Visitor   | Text      |\n",
      "\n"
     ]
    }
   ],
   "source": [
    "raw = agate.Table.from_csv('../data/mlstv.csv')\n",
    "print(raw)"
   ]
  },
  {
   "cell_type": "code",
   "execution_count": 3,
   "metadata": {
    "collapsed": false
   },
   "outputs": [
    {
     "name": "stdout",
     "output_type": "stream",
     "text": [
      "len of both: 86\n",
      "len of english: 61\n",
      "len of spanish: 25\n"
     ]
    }
   ],
   "source": [
    "# filtering for language\n",
    "\n",
    "both = raw\n",
    "english = raw.where(lambda r: r['Spanish'] is False)\n",
    "spanish = raw.where(lambda r: r['Spanish'] is True)\n",
    "print('len of both: {}'.format(len(both)))\n",
    "print('len of english: {}'.format(len(english)))\n",
    "print('len of spanish: {}'.format(len(spanish)))\n"
   ]
  },
  {
   "cell_type": "markdown",
   "metadata": {},
   "source": [
    "## All National TV"
   ]
  },
  {
   "cell_type": "code",
   "execution_count": 4,
   "metadata": {
    "collapsed": false
   },
   "outputs": [
    {
     "name": "stdout",
     "output_type": "stream",
     "text": [
      "len of visitor: 86\n",
      "len of home: 86\n",
      "len of teams: 172\n",
      "\n",
      "| team                   | Matches |\n",
      "| ---------------------- | ------- |\n",
      "| LAFC                   |      16 |\n",
      "| Atlanta United         |      16 |\n",
      "| New York City FC       |      14 |\n",
      "| New York Red Bulls     |      14 |\n",
      "| Seattle Sounders       |      13 |\n",
      "| Orlando City SC        |      13 |\n",
      "| LA Galaxy              |      13 |\n",
      "| Portland Timbers       |      12 |\n",
      "| D.C. United            |      12 |\n",
      "| Sporting Kansas City   |       7 |\n",
      "| FC Dallas              |       7 |\n",
      "| Chicago Fire           |       7 |\n",
      "| Houston Dynamo         |       6 |\n",
      "| San Jose Earthquakes   |       5 |\n",
      "| Toronto FC             |       4 |\n",
      "| Philadelphia Union     |       3 |\n",
      "| Columbus Crew SC       |       2 |\n",
      "| Minnesota United FC    |       2 |\n",
      "| New England Revolution |       2 |\n",
      "| Real Salt Lake         |       2 |\n",
      "| Colorado Rapids        |       2 |\n"
     ]
    },
    {
     "data": {
      "image/svg+xml": [
       "<svg height=\"600\" version=\"1.1\" width=\"800\" xmlns=\"http://www.w3.org/2000/svg\"><g><rect fill=\"#f9f9f9\" height=\"600\" width=\"800\" x=\"0\" y=\"0\"/><g transform=\"translate(40 40)\"><g transform=\"translate(214 0)\"/><g transform=\"translate(0 0)\"><g transform=\"translate(214 0)\"><g class=\"axis bottom\"><text dy=\"1em\" fill=\"#666\" font-family=\"Monaco\" text-anchor=\"middle\" transform=\"\" x=\"253.0\" y=\"506.0\">Matches</text><g class=\"tick\"><line stroke=\"#eee\" stroke-width=\"1\" x1=\"126.50\" x2=\"126.50\" y1=\"0\" y2=\"472.0\"/><text dy=\"1em\" fill=\"#9c9c9c\" font-family=\"Monaco\" text-anchor=\"middle\" x=\"126.50\" y=\"476.0\">5</text></g><g class=\"tick\"><line stroke=\"#eee\" stroke-width=\"1\" x1=\"253.0\" x2=\"253.0\" y1=\"0\" y2=\"472.0\"/><text dy=\"1em\" fill=\"#9c9c9c\" font-family=\"Monaco\" text-anchor=\"middle\" x=\"253.0\" y=\"476.0\">10</text></g><g class=\"tick\"><line stroke=\"#eee\" stroke-width=\"1\" x1=\"379.50\" x2=\"379.50\" y1=\"0\" y2=\"472.0\"/><text dy=\"1em\" fill=\"#9c9c9c\" font-family=\"Monaco\" text-anchor=\"middle\" x=\"379.50\" y=\"476.0\">15</text></g><g class=\"tick\"><line stroke=\"#eee\" stroke-width=\"1\" x1=\"506\" x2=\"506\" y1=\"0\" y2=\"472.0\"/><text dy=\"1em\" fill=\"#9c9c9c\" font-family=\"Monaco\" text-anchor=\"middle\" x=\"506\" y=\"476.0\">20</text></g><g class=\"tick\"><line stroke=\"#a8a8a8\" stroke-width=\"1\" x1=\"0\" x2=\"0\" y1=\"0\" y2=\"472.0\"/><text dy=\"1em\" fill=\"#9c9c9c\" font-family=\"Monaco\" text-anchor=\"middle\" x=\"0\" y=\"476.0\">0</text></g></g><g class=\"axis left\"><text dy=\"\" fill=\"#666\" font-family=\"Monaco\" text-anchor=\"middle\" transform=\"rotate(270 -192 234)\" x=\"-192\" y=\"234.0\">team</text><g class=\"tick\"><line stroke=\"#eee\" stroke-width=\"1\" x1=\"-4\" x2=\"506.0\" y1=\"456.8571428571428571428571429\" y2=\"456.8571428571428571428571429\"/><text dy=\"0.32em\" fill=\"#9c9c9c\" font-family=\"Monaco\" text-anchor=\"end\" x=\"-8\" y=\"456.8571428571428571428571429\">Colorado Rapids</text></g><g class=\"tick\"><line stroke=\"#eee\" stroke-width=\"1\" x1=\"-4\" x2=\"506.0\" y1=\"434.5714285714285714285714286\" y2=\"434.5714285714285714285714286\"/><text dy=\"0.32em\" fill=\"#9c9c9c\" font-family=\"Monaco\" text-anchor=\"end\" x=\"-8\" y=\"434.5714285714285714285714286\">Real Salt Lake</text></g><g class=\"tick\"><line stroke=\"#eee\" stroke-width=\"1\" x1=\"-4\" x2=\"506.0\" y1=\"412.2857142857142857142857143\" y2=\"412.2857142857142857142857143\"/><text dy=\"0.32em\" fill=\"#9c9c9c\" font-family=\"Monaco\" text-anchor=\"end\" x=\"-8\" y=\"412.2857142857142857142857143\">New England Revolution</text></g><g class=\"tick\"><line stroke=\"#eee\" stroke-width=\"1\" x1=\"-4\" x2=\"506.0\" y1=\"390.0000000000000000000000000\" y2=\"390.0000000000000000000000000\"/><text dy=\"0.32em\" fill=\"#9c9c9c\" font-family=\"Monaco\" text-anchor=\"end\" x=\"-8\" y=\"390.0000000000000000000000000\">Minnesota United FC</text></g><g class=\"tick\"><line stroke=\"#eee\" stroke-width=\"1\" x1=\"-4\" x2=\"506.0\" y1=\"367.7142857142857142857142857\" y2=\"367.7142857142857142857142857\"/><text dy=\"0.32em\" fill=\"#9c9c9c\" font-family=\"Monaco\" text-anchor=\"end\" x=\"-8\" y=\"367.7142857142857142857142857\">Columbus Crew SC</text></g><g class=\"tick\"><line stroke=\"#eee\" stroke-width=\"1\" x1=\"-4\" x2=\"506.0\" y1=\"345.4285714285714285714285715\" y2=\"345.4285714285714285714285715\"/><text dy=\"0.32em\" fill=\"#9c9c9c\" font-family=\"Monaco\" text-anchor=\"end\" x=\"-8\" y=\"345.4285714285714285714285715\">Philadelphia Union</text></g><g class=\"tick\"><line stroke=\"#eee\" stroke-width=\"1\" x1=\"-4\" x2=\"506.0\" y1=\"323.1428571428571428571428572\" y2=\"323.1428571428571428571428572\"/><text dy=\"0.32em\" fill=\"#9c9c9c\" font-family=\"Monaco\" text-anchor=\"end\" x=\"-8\" y=\"323.1428571428571428571428572\">Toronto FC</text></g><g class=\"tick\"><line stroke=\"#eee\" stroke-width=\"1\" x1=\"-4\" x2=\"506.0\" y1=\"300.8571428571428571428571429\" y2=\"300.8571428571428571428571429\"/><text dy=\"0.32em\" fill=\"#9c9c9c\" font-family=\"Monaco\" text-anchor=\"end\" x=\"-8\" y=\"300.8571428571428571428571429\">San Jose Earthquakes</text></g><g class=\"tick\"><line stroke=\"#eee\" stroke-width=\"1\" x1=\"-4\" x2=\"506.0\" y1=\"278.5714285714285714285714286\" y2=\"278.5714285714285714285714286\"/><text dy=\"0.32em\" fill=\"#9c9c9c\" font-family=\"Monaco\" text-anchor=\"end\" x=\"-8\" y=\"278.5714285714285714285714286\">Houston Dynamo</text></g><g class=\"tick\"><line stroke=\"#eee\" stroke-width=\"1\" x1=\"-4\" x2=\"506.0\" y1=\"256.2857142857142857142857143\" y2=\"256.2857142857142857142857143\"/><text dy=\"0.32em\" fill=\"#9c9c9c\" font-family=\"Monaco\" text-anchor=\"end\" x=\"-8\" y=\"256.2857142857142857142857143\">Chicago Fire</text></g><g class=\"tick\"><line stroke=\"#eee\" stroke-width=\"1\" x1=\"-4\" x2=\"506.0\" y1=\"234.0000000000000000000000000\" y2=\"234.0000000000000000000000000\"/><text dy=\"0.32em\" fill=\"#9c9c9c\" font-family=\"Monaco\" text-anchor=\"end\" x=\"-8\" y=\"234.0000000000000000000000000\">FC Dallas</text></g><g class=\"tick\"><line stroke=\"#eee\" stroke-width=\"1\" x1=\"-4\" x2=\"506.0\" y1=\"211.7142857142857142857142857\" y2=\"211.7142857142857142857142857\"/><text dy=\"0.32em\" fill=\"#9c9c9c\" font-family=\"Monaco\" text-anchor=\"end\" x=\"-8\" y=\"211.7142857142857142857142857\">Sporting Kansas City</text></g><g class=\"tick\"><line stroke=\"#eee\" stroke-width=\"1\" x1=\"-4\" x2=\"506.0\" y1=\"189.4285714285714285714285714\" y2=\"189.4285714285714285714285714\"/><text dy=\"0.32em\" fill=\"#9c9c9c\" font-family=\"Monaco\" text-anchor=\"end\" x=\"-8\" y=\"189.4285714285714285714285714\">D.C. United</text></g><g class=\"tick\"><line stroke=\"#eee\" stroke-width=\"1\" x1=\"-4\" x2=\"506.0\" y1=\"167.1428571428571428571428571\" y2=\"167.1428571428571428571428571\"/><text dy=\"0.32em\" fill=\"#9c9c9c\" font-family=\"Monaco\" text-anchor=\"end\" x=\"-8\" y=\"167.1428571428571428571428571\">Portland Timbers</text></g><g class=\"tick\"><line stroke=\"#eee\" stroke-width=\"1\" x1=\"-4\" x2=\"506.0\" y1=\"144.8571428571428571428571428\" y2=\"144.8571428571428571428571428\"/><text dy=\"0.32em\" fill=\"#9c9c9c\" font-family=\"Monaco\" text-anchor=\"end\" x=\"-8\" y=\"144.8571428571428571428571428\">LA Galaxy</text></g><g class=\"tick\"><line stroke=\"#eee\" stroke-width=\"1\" x1=\"-4\" x2=\"506.0\" y1=\"122.5714285714285714285714285\" y2=\"122.5714285714285714285714285\"/><text dy=\"0.32em\" fill=\"#9c9c9c\" font-family=\"Monaco\" text-anchor=\"end\" x=\"-8\" y=\"122.5714285714285714285714285\">Orlando City SC</text></g><g class=\"tick\"><line stroke=\"#eee\" stroke-width=\"1\" x1=\"-4\" x2=\"506.0\" y1=\"100.2857142857142857142857143\" y2=\"100.2857142857142857142857143\"/><text dy=\"0.32em\" fill=\"#9c9c9c\" font-family=\"Monaco\" text-anchor=\"end\" x=\"-8\" y=\"100.2857142857142857142857143\">Seattle Sounders</text></g><g class=\"tick\"><line stroke=\"#eee\" stroke-width=\"1\" x1=\"-4\" x2=\"506.0\" y1=\"77.99999999999999999999999996\" y2=\"77.99999999999999999999999996\"/><text dy=\"0.32em\" fill=\"#9c9c9c\" font-family=\"Monaco\" text-anchor=\"end\" x=\"-8\" y=\"77.99999999999999999999999996\">New York Red Bulls</text></g><g class=\"tick\"><line stroke=\"#eee\" stroke-width=\"1\" x1=\"-4\" x2=\"506.0\" y1=\"55.71428571428571428571428566\" y2=\"55.71428571428571428571428566\"/><text dy=\"0.32em\" fill=\"#9c9c9c\" font-family=\"Monaco\" text-anchor=\"end\" x=\"-8\" y=\"55.71428571428571428571428566\">New York City FC</text></g><g class=\"tick\"><line stroke=\"#eee\" stroke-width=\"1\" x1=\"-4\" x2=\"506.0\" y1=\"33.42857142857142857142857136\" y2=\"33.42857142857142857142857136\"/><text dy=\"0.32em\" fill=\"#9c9c9c\" font-family=\"Monaco\" text-anchor=\"end\" x=\"-8\" y=\"33.42857142857142857142857136\">Atlanta United</text></g><g class=\"tick\"><line stroke=\"#eee\" stroke-width=\"1\" x1=\"-4\" x2=\"506.0\" y1=\"11.14285714285714285714285706\" y2=\"11.14285714285714285714285706\"/><text dy=\"0.32em\" fill=\"#9c9c9c\" font-family=\"Monaco\" text-anchor=\"end\" x=\"-8\" y=\"11.14285714285714285714285706\">LAFC</text></g></g><g><g class=\"series bars\"><rect fill=\"#e41a1c\" height=\"20.0571428571428571428571429\" width=\"50.6\" x=\"0\" y=\"446.8285714285714285714285714\"/><rect fill=\"#e41a1c\" height=\"20.0571428571428571428571429\" width=\"50.6\" x=\"0\" y=\"424.5428571428571428571428571\"/><rect fill=\"#e41a1c\" height=\"20.0571428571428571428571429\" width=\"50.6\" x=\"0\" y=\"402.2571428571428571428571428\"/><rect fill=\"#e41a1c\" height=\"20.0571428571428571428571429\" width=\"50.6\" x=\"0\" y=\"379.9714285714285714285714285\"/><rect fill=\"#e41a1c\" height=\"20.0571428571428571428571428\" width=\"50.6\" x=\"0\" y=\"357.6857142857142857142857143\"/><rect fill=\"#e41a1c\" height=\"20.0571428571428571428571429\" width=\"75.90\" x=\"0\" y=\"335.4000000000000000000000000\"/><rect fill=\"#e41a1c\" height=\"20.0571428571428571428571429\" width=\"101.2\" x=\"0\" y=\"313.1142857142857142857142857\"/><rect fill=\"#e41a1c\" height=\"20.0571428571428571428571429\" width=\"126.50\" x=\"0\" y=\"290.8285714285714285714285714\"/><rect fill=\"#e41a1c\" height=\"20.0571428571428571428571429\" width=\"151.8\" x=\"0\" y=\"268.5428571428571428571428571\"/><rect fill=\"#e41a1c\" height=\"20.0571428571428571428571429\" width=\"177.10\" x=\"0\" y=\"246.2571428571428571428571428\"/><rect fill=\"#e41a1c\" height=\"20.0571428571428571428571429\" width=\"177.10\" x=\"0\" y=\"223.9714285714285714285714285\"/><rect fill=\"#e41a1c\" height=\"20.0571428571428571428571429\" width=\"177.10\" x=\"0\" y=\"201.6857142857142857142857142\"/><rect fill=\"#e41a1c\" height=\"20.0571428571428571428571429\" width=\"303.6\" x=\"0\" y=\"179.3999999999999999999999999\"/><rect fill=\"#e41a1c\" height=\"20.0571428571428571428571429\" width=\"303.6\" x=\"0\" y=\"157.1142857142857142857142856\"/><rect fill=\"#e41a1c\" height=\"20.0571428571428571428571429\" width=\"328.90\" x=\"0\" y=\"134.8285714285714285714285713\"/><rect fill=\"#e41a1c\" height=\"20.0571428571428571428571428\" width=\"328.90\" x=\"0\" y=\"112.5428571428571428571428571\"/><rect fill=\"#e41a1c\" height=\"20.05714285714285714285714289\" width=\"328.90\" x=\"0\" y=\"90.25714285714285714285714281\"/><rect fill=\"#e41a1c\" height=\"20.05714285714285714285714288\" width=\"354.2\" x=\"0\" y=\"67.97142857142857142857142851\"/><rect fill=\"#e41a1c\" height=\"20.05714285714285714285714288\" width=\"354.2\" x=\"0\" y=\"45.68571428571428571428571421\"/><rect fill=\"#e41a1c\" height=\"20.05714285714285714285714288\" width=\"404.8\" x=\"0\" y=\"23.39999999999999999999999991\"/><rect fill=\"#e41a1c\" height=\"20.05714285714285714285714288\" width=\"404.8\" x=\"0\" y=\"1.114285714285714285714285614\"/></g></g></g></g></g></g></svg>"
      ],
      "text/plain": [
       "<IPython.core.display.SVG object>"
      ]
     },
     "execution_count": 4,
     "metadata": {},
     "output_type": "execute_result"
    }
   ],
   "source": [
    "visitor = both.select(['Visitor', 'Date']).rename(column_names = ['team', 'date'])\n",
    "home = both.select(['Home', 'Date']).rename(column_names = ['team', 'date'])\n",
    "teams = agate.Table.merge([visitor, home])\n",
    "\n",
    "print('len of visitor: {}'.format(len(visitor)))\n",
    "print('len of home: {}'.format(len(home)))\n",
    "print('len of teams: {}\\n'.format(len(teams)))\n",
    "\n",
    "teams_pivot = teams.pivot('team').rename(column_names = {'Count': 'Matches'})\n",
    "teams_chart = teams_pivot.order_by('Matches', reverse=True)\n",
    "teams_chart.print_table(max_rows=None, max_column_width=None)\n",
    "teams_chart.bar_chart('team', 'Matches','../charts/all_tv.svg')\n",
    "teams_chart.bar_chart('team', 'Matches')\n"
   ]
  },
  {
   "cell_type": "markdown",
   "metadata": {},
   "source": [
    "## What it means\n",
    "\n",
    "Atlanta is clearly the darling overall, and why not after hosting the [most-attended MLS game ever]() last year in the new Mercedes Benz stadium. A new team in L.A. helps build a natural big-city rivalry there to go along with the two New York teams."
   ]
  },
  {
   "cell_type": "markdown",
   "metadata": {},
   "source": [
    "## English language"
   ]
  },
  {
   "cell_type": "code",
   "execution_count": 5,
   "metadata": {
    "collapsed": false
   },
   "outputs": [
    {
     "name": "stdout",
     "output_type": "stream",
     "text": [
      "len of en_visitor: 61\n",
      "len of en_home: 61\n",
      "len of en_teams: 122\n",
      "\n",
      "| team                   | Matches |\n",
      "| ---------------------- | ------- |\n",
      "| Seattle Sounders       |      13 |\n",
      "| LAFC                   |      12 |\n",
      "| Atlanta United         |      12 |\n",
      "| New York City FC       |      11 |\n",
      "| Portland Timbers       |      11 |\n",
      "| Orlando City SC        |      11 |\n",
      "| New York Red Bulls     |      10 |\n",
      "| LA Galaxy              |       9 |\n",
      "| D.C. United            |       8 |\n",
      "| Sporting Kansas City   |       7 |\n",
      "| Toronto FC             |       4 |\n",
      "| Columbus Crew SC       |       2 |\n",
      "| Minnesota United FC    |       2 |\n",
      "| Chicago Fire           |       2 |\n",
      "| Philadelphia Union     |       2 |\n",
      "| FC Dallas              |       1 |\n",
      "| New England Revolution |       1 |\n",
      "| Real Salt Lake         |       1 |\n",
      "| Houston Dynamo         |       1 |\n",
      "| San Jose Earthquakes   |       1 |\n",
      "| Colorado Rapids        |       1 |\n"
     ]
    },
    {
     "data": {
      "image/svg+xml": [
       "<svg height=\"600\" version=\"1.1\" width=\"800\" xmlns=\"http://www.w3.org/2000/svg\"><g><rect fill=\"#f9f9f9\" height=\"600\" width=\"800\" x=\"0\" y=\"0\"/><g transform=\"translate(40 40)\"><g transform=\"translate(214 0)\"/><g transform=\"translate(0 0)\"><g transform=\"translate(214 0)\"><g class=\"axis bottom\"><text dy=\"1em\" fill=\"#666\" font-family=\"Monaco\" text-anchor=\"middle\" transform=\"\" x=\"253.0\" y=\"506.0\">Matches</text><g class=\"tick\"><line stroke=\"#eee\" stroke-width=\"1\" x1=\"168.6666666666666666666666666\" x2=\"168.6666666666666666666666666\" y1=\"0\" y2=\"472.0\"/><text dy=\"1em\" fill=\"#9c9c9c\" font-family=\"Monaco\" text-anchor=\"middle\" x=\"168.6666666666666666666666666\" y=\"476.0\">5</text></g><g class=\"tick\"><line stroke=\"#eee\" stroke-width=\"1\" x1=\"337.3333333333333333333333334\" x2=\"337.3333333333333333333333334\" y1=\"0\" y2=\"472.0\"/><text dy=\"1em\" fill=\"#9c9c9c\" font-family=\"Monaco\" text-anchor=\"middle\" x=\"337.3333333333333333333333334\" y=\"476.0\">10</text></g><g class=\"tick\"><line stroke=\"#eee\" stroke-width=\"1\" x1=\"506\" x2=\"506\" y1=\"0\" y2=\"472.0\"/><text dy=\"1em\" fill=\"#9c9c9c\" font-family=\"Monaco\" text-anchor=\"middle\" x=\"506\" y=\"476.0\">15</text></g><g class=\"tick\"><line stroke=\"#a8a8a8\" stroke-width=\"1\" x1=\"0\" x2=\"0\" y1=\"0\" y2=\"472.0\"/><text dy=\"1em\" fill=\"#9c9c9c\" font-family=\"Monaco\" text-anchor=\"middle\" x=\"0\" y=\"476.0\">0</text></g></g><g class=\"axis left\"><text dy=\"\" fill=\"#666\" font-family=\"Monaco\" text-anchor=\"middle\" transform=\"rotate(270 -192 234)\" x=\"-192\" y=\"234.0\">team</text><g class=\"tick\"><line stroke=\"#eee\" stroke-width=\"1\" x1=\"-4\" x2=\"506.0\" y1=\"456.8571428571428571428571429\" y2=\"456.8571428571428571428571429\"/><text dy=\"0.32em\" fill=\"#9c9c9c\" font-family=\"Monaco\" text-anchor=\"end\" x=\"-8\" y=\"456.8571428571428571428571429\">Colorado Rapids</text></g><g class=\"tick\"><line stroke=\"#eee\" stroke-width=\"1\" x1=\"-4\" x2=\"506.0\" y1=\"434.5714285714285714285714286\" y2=\"434.5714285714285714285714286\"/><text dy=\"0.32em\" fill=\"#9c9c9c\" font-family=\"Monaco\" text-anchor=\"end\" x=\"-8\" y=\"434.5714285714285714285714286\">San Jose Earthquakes</text></g><g class=\"tick\"><line stroke=\"#eee\" stroke-width=\"1\" x1=\"-4\" x2=\"506.0\" y1=\"412.2857142857142857142857143\" y2=\"412.2857142857142857142857143\"/><text dy=\"0.32em\" fill=\"#9c9c9c\" font-family=\"Monaco\" text-anchor=\"end\" x=\"-8\" y=\"412.2857142857142857142857143\">Houston Dynamo</text></g><g class=\"tick\"><line stroke=\"#eee\" stroke-width=\"1\" x1=\"-4\" x2=\"506.0\" y1=\"390.0000000000000000000000000\" y2=\"390.0000000000000000000000000\"/><text dy=\"0.32em\" fill=\"#9c9c9c\" font-family=\"Monaco\" text-anchor=\"end\" x=\"-8\" y=\"390.0000000000000000000000000\">Real Salt Lake</text></g><g class=\"tick\"><line stroke=\"#eee\" stroke-width=\"1\" x1=\"-4\" x2=\"506.0\" y1=\"367.7142857142857142857142857\" y2=\"367.7142857142857142857142857\"/><text dy=\"0.32em\" fill=\"#9c9c9c\" font-family=\"Monaco\" text-anchor=\"end\" x=\"-8\" y=\"367.7142857142857142857142857\">New England Revolution</text></g><g class=\"tick\"><line stroke=\"#eee\" stroke-width=\"1\" x1=\"-4\" x2=\"506.0\" y1=\"345.4285714285714285714285715\" y2=\"345.4285714285714285714285715\"/><text dy=\"0.32em\" fill=\"#9c9c9c\" font-family=\"Monaco\" text-anchor=\"end\" x=\"-8\" y=\"345.4285714285714285714285715\">FC Dallas</text></g><g class=\"tick\"><line stroke=\"#eee\" stroke-width=\"1\" x1=\"-4\" x2=\"506.0\" y1=\"323.1428571428571428571428572\" y2=\"323.1428571428571428571428572\"/><text dy=\"0.32em\" fill=\"#9c9c9c\" font-family=\"Monaco\" text-anchor=\"end\" x=\"-8\" y=\"323.1428571428571428571428572\">Philadelphia Union</text></g><g class=\"tick\"><line stroke=\"#eee\" stroke-width=\"1\" x1=\"-4\" x2=\"506.0\" y1=\"300.8571428571428571428571429\" y2=\"300.8571428571428571428571429\"/><text dy=\"0.32em\" fill=\"#9c9c9c\" font-family=\"Monaco\" text-anchor=\"end\" x=\"-8\" y=\"300.8571428571428571428571429\">Chicago Fire</text></g><g class=\"tick\"><line stroke=\"#eee\" stroke-width=\"1\" x1=\"-4\" x2=\"506.0\" y1=\"278.5714285714285714285714286\" y2=\"278.5714285714285714285714286\"/><text dy=\"0.32em\" fill=\"#9c9c9c\" font-family=\"Monaco\" text-anchor=\"end\" x=\"-8\" y=\"278.5714285714285714285714286\">Minnesota United FC</text></g><g class=\"tick\"><line stroke=\"#eee\" stroke-width=\"1\" x1=\"-4\" x2=\"506.0\" y1=\"256.2857142857142857142857143\" y2=\"256.2857142857142857142857143\"/><text dy=\"0.32em\" fill=\"#9c9c9c\" font-family=\"Monaco\" text-anchor=\"end\" x=\"-8\" y=\"256.2857142857142857142857143\">Columbus Crew SC</text></g><g class=\"tick\"><line stroke=\"#eee\" stroke-width=\"1\" x1=\"-4\" x2=\"506.0\" y1=\"234.0000000000000000000000000\" y2=\"234.0000000000000000000000000\"/><text dy=\"0.32em\" fill=\"#9c9c9c\" font-family=\"Monaco\" text-anchor=\"end\" x=\"-8\" y=\"234.0000000000000000000000000\">Toronto FC</text></g><g class=\"tick\"><line stroke=\"#eee\" stroke-width=\"1\" x1=\"-4\" x2=\"506.0\" y1=\"211.7142857142857142857142857\" y2=\"211.7142857142857142857142857\"/><text dy=\"0.32em\" fill=\"#9c9c9c\" font-family=\"Monaco\" text-anchor=\"end\" x=\"-8\" y=\"211.7142857142857142857142857\">Sporting Kansas City</text></g><g class=\"tick\"><line stroke=\"#eee\" stroke-width=\"1\" x1=\"-4\" x2=\"506.0\" y1=\"189.4285714285714285714285714\" y2=\"189.4285714285714285714285714\"/><text dy=\"0.32em\" fill=\"#9c9c9c\" font-family=\"Monaco\" text-anchor=\"end\" x=\"-8\" y=\"189.4285714285714285714285714\">D.C. United</text></g><g class=\"tick\"><line stroke=\"#eee\" stroke-width=\"1\" x1=\"-4\" x2=\"506.0\" y1=\"167.1428571428571428571428571\" y2=\"167.1428571428571428571428571\"/><text dy=\"0.32em\" fill=\"#9c9c9c\" font-family=\"Monaco\" text-anchor=\"end\" x=\"-8\" y=\"167.1428571428571428571428571\">LA Galaxy</text></g><g class=\"tick\"><line stroke=\"#eee\" stroke-width=\"1\" x1=\"-4\" x2=\"506.0\" y1=\"144.8571428571428571428571428\" y2=\"144.8571428571428571428571428\"/><text dy=\"0.32em\" fill=\"#9c9c9c\" font-family=\"Monaco\" text-anchor=\"end\" x=\"-8\" y=\"144.8571428571428571428571428\">New York Red Bulls</text></g><g class=\"tick\"><line stroke=\"#eee\" stroke-width=\"1\" x1=\"-4\" x2=\"506.0\" y1=\"122.5714285714285714285714285\" y2=\"122.5714285714285714285714285\"/><text dy=\"0.32em\" fill=\"#9c9c9c\" font-family=\"Monaco\" text-anchor=\"end\" x=\"-8\" y=\"122.5714285714285714285714285\">Orlando City SC</text></g><g class=\"tick\"><line stroke=\"#eee\" stroke-width=\"1\" x1=\"-4\" x2=\"506.0\" y1=\"100.2857142857142857142857143\" y2=\"100.2857142857142857142857143\"/><text dy=\"0.32em\" fill=\"#9c9c9c\" font-family=\"Monaco\" text-anchor=\"end\" x=\"-8\" y=\"100.2857142857142857142857143\">Portland Timbers</text></g><g class=\"tick\"><line stroke=\"#eee\" stroke-width=\"1\" x1=\"-4\" x2=\"506.0\" y1=\"77.99999999999999999999999996\" y2=\"77.99999999999999999999999996\"/><text dy=\"0.32em\" fill=\"#9c9c9c\" font-family=\"Monaco\" text-anchor=\"end\" x=\"-8\" y=\"77.99999999999999999999999996\">New York City FC</text></g><g class=\"tick\"><line stroke=\"#eee\" stroke-width=\"1\" x1=\"-4\" x2=\"506.0\" y1=\"55.71428571428571428571428566\" y2=\"55.71428571428571428571428566\"/><text dy=\"0.32em\" fill=\"#9c9c9c\" font-family=\"Monaco\" text-anchor=\"end\" x=\"-8\" y=\"55.71428571428571428571428566\">Atlanta United</text></g><g class=\"tick\"><line stroke=\"#eee\" stroke-width=\"1\" x1=\"-4\" x2=\"506.0\" y1=\"33.42857142857142857142857136\" y2=\"33.42857142857142857142857136\"/><text dy=\"0.32em\" fill=\"#9c9c9c\" font-family=\"Monaco\" text-anchor=\"end\" x=\"-8\" y=\"33.42857142857142857142857136\">LAFC</text></g><g class=\"tick\"><line stroke=\"#eee\" stroke-width=\"1\" x1=\"-4\" x2=\"506.0\" y1=\"11.14285714285714285714285706\" y2=\"11.14285714285714285714285706\"/><text dy=\"0.32em\" fill=\"#9c9c9c\" font-family=\"Monaco\" text-anchor=\"end\" x=\"-8\" y=\"11.14285714285714285714285706\">Seattle Sounders</text></g></g><g><g class=\"series bars\"><rect fill=\"#e41a1c\" height=\"20.0571428571428571428571429\" width=\"33.73333333333333333333333334\" x=\"0\" y=\"446.8285714285714285714285714\"/><rect fill=\"#e41a1c\" height=\"20.0571428571428571428571429\" width=\"33.73333333333333333333333334\" x=\"0\" y=\"424.5428571428571428571428571\"/><rect fill=\"#e41a1c\" height=\"20.0571428571428571428571429\" width=\"33.73333333333333333333333334\" x=\"0\" y=\"402.2571428571428571428571428\"/><rect fill=\"#e41a1c\" height=\"20.0571428571428571428571429\" width=\"33.73333333333333333333333334\" x=\"0\" y=\"379.9714285714285714285714285\"/><rect fill=\"#e41a1c\" height=\"20.0571428571428571428571428\" width=\"33.73333333333333333333333334\" x=\"0\" y=\"357.6857142857142857142857143\"/><rect fill=\"#e41a1c\" height=\"20.0571428571428571428571429\" width=\"33.73333333333333333333333334\" x=\"0\" y=\"335.4000000000000000000000000\"/><rect fill=\"#e41a1c\" height=\"20.0571428571428571428571429\" width=\"67.46666666666666666666666665\" x=\"0\" y=\"313.1142857142857142857142857\"/><rect fill=\"#e41a1c\" height=\"20.0571428571428571428571429\" width=\"67.46666666666666666666666665\" x=\"0\" y=\"290.8285714285714285714285714\"/><rect fill=\"#e41a1c\" height=\"20.0571428571428571428571429\" width=\"67.46666666666666666666666665\" x=\"0\" y=\"268.5428571428571428571428571\"/><rect fill=\"#e41a1c\" height=\"20.0571428571428571428571429\" width=\"67.46666666666666666666666665\" x=\"0\" y=\"246.2571428571428571428571428\"/><rect fill=\"#e41a1c\" height=\"20.0571428571428571428571429\" width=\"134.9333333333333333333333334\" x=\"0\" y=\"223.9714285714285714285714285\"/><rect fill=\"#e41a1c\" height=\"20.0571428571428571428571429\" width=\"236.1333333333333333333333334\" x=\"0\" y=\"201.6857142857142857142857142\"/><rect fill=\"#e41a1c\" height=\"20.0571428571428571428571429\" width=\"269.8666666666666666666666666\" x=\"0\" y=\"179.3999999999999999999999999\"/><rect fill=\"#e41a1c\" height=\"20.0571428571428571428571429\" width=\"303.6\" x=\"0\" y=\"157.1142857142857142857142856\"/><rect fill=\"#e41a1c\" height=\"20.0571428571428571428571429\" width=\"337.3333333333333333333333334\" x=\"0\" y=\"134.8285714285714285714285713\"/><rect fill=\"#e41a1c\" height=\"20.0571428571428571428571428\" width=\"371.0666666666666666666666666\" x=\"0\" y=\"112.5428571428571428571428571\"/><rect fill=\"#e41a1c\" height=\"20.05714285714285714285714289\" width=\"371.0666666666666666666666666\" x=\"0\" y=\"90.25714285714285714285714281\"/><rect fill=\"#e41a1c\" height=\"20.05714285714285714285714288\" width=\"371.0666666666666666666666666\" x=\"0\" y=\"67.97142857142857142857142851\"/><rect fill=\"#e41a1c\" height=\"20.05714285714285714285714288\" width=\"404.8\" x=\"0\" y=\"45.68571428571428571428571421\"/><rect fill=\"#e41a1c\" height=\"20.05714285714285714285714288\" width=\"404.8\" x=\"0\" y=\"23.39999999999999999999999991\"/><rect fill=\"#e41a1c\" height=\"20.05714285714285714285714288\" width=\"438.5333333333333333333333334\" x=\"0\" y=\"1.114285714285714285714285614\"/></g></g></g></g></g></g></svg>"
      ],
      "text/plain": [
       "<IPython.core.display.SVG object>"
      ]
     },
     "execution_count": 5,
     "metadata": {},
     "output_type": "execute_result"
    }
   ],
   "source": [
    "en_visitor = english.select(['Visitor', 'Date']).rename(column_names = ['team', 'date'])\n",
    "en_home = english.select(['Home', 'Date']).rename(column_names = ['team', 'date'])\n",
    "en_teams = agate.Table.merge([en_visitor, en_home])\n",
    "\n",
    "print('len of en_visitor: {}'.format(len(en_visitor)))\n",
    "print('len of en_home: {}'.format(len(en_home)))\n",
    "print('len of en_teams: {}\\n'.format(len(en_teams)))\n",
    "\n",
    "en_teams_pivot = en_teams.pivot('team').rename(column_names = {'Count': 'Matches'})\n",
    "en_teams_chart = en_teams_pivot.order_by('Matches', reverse=True)\n",
    "en_teams_chart.print_table(max_rows=None, max_column_width=None)\n",
    "en_teams_chart.bar_chart('team', 'Matches','../charts/en_tv.svg')\n",
    "en_teams_chart.bar_chart('team', 'Matches')"
   ]
  },
  {
   "cell_type": "markdown",
   "metadata": {},
   "source": [
    "## Spanish language"
   ]
  },
  {
   "cell_type": "code",
   "execution_count": 6,
   "metadata": {
    "collapsed": false
   },
   "outputs": [
    {
     "name": "stdout",
     "output_type": "stream",
     "text": [
      "len of es_visitor: 25\n",
      "len of es_home: 25\n",
      "len of es_teams: 50\n",
      "\n",
      "| team                   | Matches |\n",
      "| ---------------------- | ------- |\n",
      "| FC Dallas              |       6 |\n",
      "| Houston Dynamo         |       5 |\n",
      "| Chicago Fire           |       5 |\n",
      "| Atlanta United         |       4 |\n",
      "| LAFC                   |       4 |\n",
      "| New York Red Bulls     |       4 |\n",
      "| LA Galaxy              |       4 |\n",
      "| D.C. United            |       4 |\n",
      "| San Jose Earthquakes   |       4 |\n",
      "| New York City FC       |       3 |\n",
      "| Orlando City SC        |       2 |\n",
      "| Portland Timbers       |       1 |\n",
      "| New England Revolution |       1 |\n",
      "| Real Salt Lake         |       1 |\n",
      "| Philadelphia Union     |       1 |\n",
      "| Colorado Rapids        |       1 |\n"
     ]
    },
    {
     "data": {
      "image/svg+xml": [
       "<svg height=\"600\" version=\"1.1\" width=\"800\" xmlns=\"http://www.w3.org/2000/svg\"><g><rect fill=\"#f9f9f9\" height=\"600\" width=\"800\" x=\"0\" y=\"0\"/><g transform=\"translate(40 40)\"><g transform=\"translate(214 0)\"/><g transform=\"translate(0 0)\"><g transform=\"translate(214 0)\"><g class=\"axis bottom\"><text dy=\"1em\" fill=\"#666\" font-family=\"Monaco\" text-anchor=\"middle\" transform=\"\" x=\"253.0\" y=\"506.0\">Matches</text><g class=\"tick\"><line stroke=\"#eee\" stroke-width=\"1\" x1=\"168.6666666666666666666666666\" x2=\"168.6666666666666666666666666\" y1=\"0\" y2=\"472.0\"/><text dy=\"1em\" fill=\"#9c9c9c\" font-family=\"Monaco\" text-anchor=\"middle\" x=\"168.6666666666666666666666666\" y=\"476.0\">2</text></g><g class=\"tick\"><line stroke=\"#eee\" stroke-width=\"1\" x1=\"337.3333333333333333333333334\" x2=\"337.3333333333333333333333334\" y1=\"0\" y2=\"472.0\"/><text dy=\"1em\" fill=\"#9c9c9c\" font-family=\"Monaco\" text-anchor=\"middle\" x=\"337.3333333333333333333333334\" y=\"476.0\">4</text></g><g class=\"tick\"><line stroke=\"#eee\" stroke-width=\"1\" x1=\"506\" x2=\"506\" y1=\"0\" y2=\"472.0\"/><text dy=\"1em\" fill=\"#9c9c9c\" font-family=\"Monaco\" text-anchor=\"middle\" x=\"506\" y=\"476.0\">6</text></g><g class=\"tick\"><line stroke=\"#a8a8a8\" stroke-width=\"1\" x1=\"0\" x2=\"0\" y1=\"0\" y2=\"472.0\"/><text dy=\"1em\" fill=\"#9c9c9c\" font-family=\"Monaco\" text-anchor=\"middle\" x=\"0\" y=\"476.0\">0</text></g></g><g class=\"axis left\"><text dy=\"\" fill=\"#666\" font-family=\"Monaco\" text-anchor=\"middle\" transform=\"rotate(270 -192 234)\" x=\"-192\" y=\"234.0\">team</text><g class=\"tick\"><line stroke=\"#eee\" stroke-width=\"1\" x1=\"-4\" x2=\"506.0\" y1=\"453.375\" y2=\"453.375\"/><text dy=\"0.32em\" fill=\"#9c9c9c\" font-family=\"Monaco\" text-anchor=\"end\" x=\"-8\" y=\"453.375\">Colorado Rapids</text></g><g class=\"tick\"><line stroke=\"#eee\" stroke-width=\"1\" x1=\"-4\" x2=\"506.0\" y1=\"424.125\" y2=\"424.125\"/><text dy=\"0.32em\" fill=\"#9c9c9c\" font-family=\"Monaco\" text-anchor=\"end\" x=\"-8\" y=\"424.125\">Philadelphia Union</text></g><g class=\"tick\"><line stroke=\"#eee\" stroke-width=\"1\" x1=\"-4\" x2=\"506.0\" y1=\"394.875\" y2=\"394.875\"/><text dy=\"0.32em\" fill=\"#9c9c9c\" font-family=\"Monaco\" text-anchor=\"end\" x=\"-8\" y=\"394.875\">Real Salt Lake</text></g><g class=\"tick\"><line stroke=\"#eee\" stroke-width=\"1\" x1=\"-4\" x2=\"506.0\" y1=\"365.625\" y2=\"365.625\"/><text dy=\"0.32em\" fill=\"#9c9c9c\" font-family=\"Monaco\" text-anchor=\"end\" x=\"-8\" y=\"365.625\">New England Revolution</text></g><g class=\"tick\"><line stroke=\"#eee\" stroke-width=\"1\" x1=\"-4\" x2=\"506.0\" y1=\"336.375\" y2=\"336.375\"/><text dy=\"0.32em\" fill=\"#9c9c9c\" font-family=\"Monaco\" text-anchor=\"end\" x=\"-8\" y=\"336.375\">Portland Timbers</text></g><g class=\"tick\"><line stroke=\"#eee\" stroke-width=\"1\" x1=\"-4\" x2=\"506.0\" y1=\"307.125\" y2=\"307.125\"/><text dy=\"0.32em\" fill=\"#9c9c9c\" font-family=\"Monaco\" text-anchor=\"end\" x=\"-8\" y=\"307.125\">Orlando City SC</text></g><g class=\"tick\"><line stroke=\"#eee\" stroke-width=\"1\" x1=\"-4\" x2=\"506.0\" y1=\"277.875\" y2=\"277.875\"/><text dy=\"0.32em\" fill=\"#9c9c9c\" font-family=\"Monaco\" text-anchor=\"end\" x=\"-8\" y=\"277.875\">New York City FC</text></g><g class=\"tick\"><line stroke=\"#eee\" stroke-width=\"1\" x1=\"-4\" x2=\"506.0\" y1=\"248.625\" y2=\"248.625\"/><text dy=\"0.32em\" fill=\"#9c9c9c\" font-family=\"Monaco\" text-anchor=\"end\" x=\"-8\" y=\"248.625\">San Jose Earthquakes</text></g><g class=\"tick\"><line stroke=\"#eee\" stroke-width=\"1\" x1=\"-4\" x2=\"506.0\" y1=\"219.375\" y2=\"219.375\"/><text dy=\"0.32em\" fill=\"#9c9c9c\" font-family=\"Monaco\" text-anchor=\"end\" x=\"-8\" y=\"219.375\">D.C. United</text></g><g class=\"tick\"><line stroke=\"#eee\" stroke-width=\"1\" x1=\"-4\" x2=\"506.0\" y1=\"190.125\" y2=\"190.125\"/><text dy=\"0.32em\" fill=\"#9c9c9c\" font-family=\"Monaco\" text-anchor=\"end\" x=\"-8\" y=\"190.125\">LA Galaxy</text></g><g class=\"tick\"><line stroke=\"#eee\" stroke-width=\"1\" x1=\"-4\" x2=\"506.0\" y1=\"160.875\" y2=\"160.875\"/><text dy=\"0.32em\" fill=\"#9c9c9c\" font-family=\"Monaco\" text-anchor=\"end\" x=\"-8\" y=\"160.875\">New York Red Bulls</text></g><g class=\"tick\"><line stroke=\"#eee\" stroke-width=\"1\" x1=\"-4\" x2=\"506.0\" y1=\"131.625\" y2=\"131.625\"/><text dy=\"0.32em\" fill=\"#9c9c9c\" font-family=\"Monaco\" text-anchor=\"end\" x=\"-8\" y=\"131.625\">LAFC</text></g><g class=\"tick\"><line stroke=\"#eee\" stroke-width=\"1\" x1=\"-4\" x2=\"506.0\" y1=\"102.375\" y2=\"102.375\"/><text dy=\"0.32em\" fill=\"#9c9c9c\" font-family=\"Monaco\" text-anchor=\"end\" x=\"-8\" y=\"102.375\">Atlanta United</text></g><g class=\"tick\"><line stroke=\"#eee\" stroke-width=\"1\" x1=\"-4\" x2=\"506.0\" y1=\"73.125\" y2=\"73.125\"/><text dy=\"0.32em\" fill=\"#9c9c9c\" font-family=\"Monaco\" text-anchor=\"end\" x=\"-8\" y=\"73.125\">Chicago Fire</text></g><g class=\"tick\"><line stroke=\"#eee\" stroke-width=\"1\" x1=\"-4\" x2=\"506.0\" y1=\"43.875\" y2=\"43.875\"/><text dy=\"0.32em\" fill=\"#9c9c9c\" font-family=\"Monaco\" text-anchor=\"end\" x=\"-8\" y=\"43.875\">Houston Dynamo</text></g><g class=\"tick\"><line stroke=\"#eee\" stroke-width=\"1\" x1=\"-4\" x2=\"506.0\" y1=\"14.625\" y2=\"14.625\"/><text dy=\"0.32em\" fill=\"#9c9c9c\" font-family=\"Monaco\" text-anchor=\"end\" x=\"-8\" y=\"14.625\">FC Dallas</text></g></g><g><g class=\"series bars\"><rect fill=\"#e41a1c\" height=\"26.3250\" width=\"84.33333333333333333333333335\" x=\"0\" y=\"440.2125\"/><rect fill=\"#e41a1c\" height=\"26.3250\" width=\"84.33333333333333333333333335\" x=\"0\" y=\"410.9625\"/><rect fill=\"#e41a1c\" height=\"26.3250\" width=\"84.33333333333333333333333335\" x=\"0\" y=\"381.7125\"/><rect fill=\"#e41a1c\" height=\"26.3250\" width=\"84.33333333333333333333333335\" x=\"0\" y=\"352.4625\"/><rect fill=\"#e41a1c\" height=\"26.3250\" width=\"84.33333333333333333333333335\" x=\"0\" y=\"323.2125\"/><rect fill=\"#e41a1c\" height=\"26.3250\" width=\"168.6666666666666666666666666\" x=\"0\" y=\"293.9625\"/><rect fill=\"#e41a1c\" height=\"26.3250\" width=\"253.0\" x=\"0\" y=\"264.7125\"/><rect fill=\"#e41a1c\" height=\"26.3250\" width=\"337.3333333333333333333333334\" x=\"0\" y=\"235.4625\"/><rect fill=\"#e41a1c\" height=\"26.3250\" width=\"337.3333333333333333333333334\" x=\"0\" y=\"206.2125\"/><rect fill=\"#e41a1c\" height=\"26.3250\" width=\"337.3333333333333333333333334\" x=\"0\" y=\"176.9625\"/><rect fill=\"#e41a1c\" height=\"26.3250\" width=\"337.3333333333333333333333334\" x=\"0\" y=\"147.7125\"/><rect fill=\"#e41a1c\" height=\"26.3250\" width=\"337.3333333333333333333333334\" x=\"0\" y=\"118.4625\"/><rect fill=\"#e41a1c\" height=\"26.3250\" width=\"337.3333333333333333333333334\" x=\"0\" y=\"89.2125\"/><rect fill=\"#e41a1c\" height=\"26.3250\" width=\"421.6666666666666666666666666\" x=\"0\" y=\"59.9625\"/><rect fill=\"#e41a1c\" height=\"26.3250\" width=\"421.6666666666666666666666666\" x=\"0\" y=\"30.7125\"/><rect fill=\"#e41a1c\" height=\"26.3250\" width=\"506\" x=\"0\" y=\"1.4625\"/></g></g></g></g></g></g></svg>"
      ],
      "text/plain": [
       "<IPython.core.display.SVG object>"
      ]
     },
     "execution_count": 6,
     "metadata": {},
     "output_type": "execute_result"
    }
   ],
   "source": [
    "es_visitor = spanish.select(['Visitor', 'Date']).rename(column_names = ['team', 'date'])\n",
    "es_home = spanish.select(['Home', 'Date']).rename(column_names = ['team', 'date'])\n",
    "es_teams = agate.Table.merge([es_visitor, es_home])\n",
    "\n",
    "print('len of es_visitor: {}'.format(len(es_visitor)))\n",
    "print('len of es_home: {}'.format(len(es_home)))\n",
    "print('len of es_teams: {}\\n'.format(len(es_teams)))\n",
    "\n",
    "es_teams_pivot = es_teams.pivot('team').rename(column_names = {'Count': 'Matches'})\n",
    "es_teams_chart = es_teams_pivot.order_by('Matches', reverse=True)\n",
    "es_teams_chart.print_table(max_rows=None, max_column_width=None)\n",
    "es_teams_chart.bar_chart('team', 'Matches','../charts/es_tv.svg')\n",
    "es_teams_chart.bar_chart('team', 'Matches')"
   ]
  },
  {
   "cell_type": "code",
   "execution_count": 7,
   "metadata": {
    "collapsed": false
   },
   "outputs": [
    {
     "name": "stdout",
     "output_type": "stream",
     "text": [
      "|       Date | Match              | Network | Spanish |\n",
      "| ---------- | ------------------ | ------- | ------- |\n",
      "| 2018-03-31 | LA Galaxy vs. LAFC | FOX     |   False |\n",
      "| 2018-07-26 | LAFC vs. LA Galaxy | ESPN    |   False |\n",
      "| 2018-08-24 | LA Galaxy vs. LAFC | ESPN    |   False |\n"
     ]
    }
   ],
   "source": [
    "la_darby = both.where(lambda row: row['Match'] in {\n",
    "        'LA Galaxy vs. LAFC',\n",
    "        'LAFC vs. LA Galaxy'}).order_by('Date')\n",
    "la_darby.select(['Date', 'Match', 'Network', 'Spanish']).print_table(max_column_width=None)"
   ]
  },
  {
   "cell_type": "code",
   "execution_count": 8,
   "metadata": {
    "collapsed": false
   },
   "outputs": [
    {
     "name": "stdout",
     "output_type": "stream",
     "text": [
      "|       Date | Match                                   | Network | Spanish |\n",
      "| ---------- | --------------------------------------- | ------- | ------- |\n",
      "| 2018-05-05 | New York Red Bulls vs. New York City FC | ESPN    |   False |\n",
      "| 2018-07-08 | New York City FC vs. New York Red Bulls | FS1     |   False |\n",
      "| 2018-08-22 | New York City FC vs. New York Red Bulls | FS1     |   False |\n"
     ]
    }
   ],
   "source": [
    "ny_darby = both.where(lambda row: row['Match'] in {\n",
    "        'New York City FC vs. New York Red Bulls',\n",
    "        'New York Red Bulls vs. New York City FC'}).order_by('Date')\n",
    "ny_darby.select(['Date', 'Match', 'Network', 'Spanish']).print_table(max_column_width=None)"
   ]
  },
  {
   "cell_type": "markdown",
   "metadata": {},
   "source": [
    "## Who hosts the most?\n",
    "\n",
    "Who hosts the most home games on National TV?"
   ]
  },
  {
   "cell_type": "code",
   "execution_count": 9,
   "metadata": {
    "collapsed": false
   },
   "outputs": [
    {
     "name": "stdout",
     "output_type": "stream",
     "text": [
      "| Home                 | Matches |\n",
      "| -------------------- | ------- |\n",
      "| Atlanta United       |      10 |\n",
      "| LAFC                 |       8 |\n",
      "| LA Galaxy            |       7 |\n",
      "| New York Red Bulls   |       7 |\n",
      "| Portland Timbers     |       6 |\n",
      "| Seattle Sounders     |       6 |\n",
      "| D.C. United          |       6 |\n",
      "| Sporting Kansas City |       5 |\n",
      "| Orlando City SC      |       5 |\n",
      "| Chicago Fire         |       5 |\n",
      "| New York City FC     |       4 |\n",
      "| Toronto FC           |       3 |\n",
      "| Philadelphia Union   |       3 |\n",
      "| Houston Dynamo       |       3 |\n",
      "| San Jose Earthquakes |       2 |\n",
      "| Colorado Rapids      |       2 |\n",
      "| FC Dallas            |       2 |\n",
      "| Columbus Crew SC     |       1 |\n",
      "| Real Salt Lake       |       1 |\n"
     ]
    }
   ],
   "source": [
    "home_team_pivot = both.pivot('Home').rename(column_names = {'Count': 'Matches'}).order_by(\n",
    "    'Matches',\n",
    "    reverse=True\n",
    ")\n",
    "home_team_pivot.print_table()"
   ]
  },
  {
   "cell_type": "code",
   "execution_count": 10,
   "metadata": {
    "collapsed": false
   },
   "outputs": [
    {
     "name": "stdout",
     "output_type": "stream",
     "text": [
      "| Home                 | Matches |\n",
      "| -------------------- | ------- |\n",
      "| Atlanta United       |       8 |\n",
      "| LA Galaxy            |       6 |\n",
      "| Portland Timbers     |       6 |\n",
      "| LAFC                 |       6 |\n",
      "| Seattle Sounders     |       6 |\n",
      "| Sporting Kansas City |       5 |\n",
      "| D.C. United          |       5 |\n",
      "| Orlando City SC      |       4 |\n",
      "| New York Red Bulls   |       4 |\n",
      "| Toronto FC           |       3 |\n",
      "| New York City FC     |       2 |\n",
      "| Philadelphia Union   |       2 |\n",
      "| Chicago Fire         |       1 |\n",
      "| San Jose Earthquakes |       1 |\n",
      "| Colorado Rapids      |       1 |\n",
      "| Columbus Crew SC     |       1 |\n"
     ]
    }
   ],
   "source": [
    "# Hosting on English national TV\n",
    "en_home_team_pivot = english.pivot('Home').rename(column_names = {'Count': 'Matches'}).order_by(\n",
    "    'Matches',\n",
    "    reverse=True\n",
    ")\n",
    "en_home_team_pivot.print_table()"
   ]
  },
  {
   "cell_type": "code",
   "execution_count": 15,
   "metadata": {
    "collapsed": false
   },
   "outputs": [
    {
     "name": "stdout",
     "output_type": "stream",
     "text": [
      "| Home                 | Matches |\n",
      "| -------------------- | ------- |\n",
      "| Atlanta United       |       8 |\n",
      "| LA Galaxy            |       6 |\n",
      "| Portland Timbers     |       6 |\n",
      "| LAFC                 |       6 |\n",
      "| Seattle Sounders     |       6 |\n",
      "| Sporting Kansas City |       5 |\n",
      "| D.C. United          |       5 |\n",
      "| Orlando City SC      |       4 |\n",
      "| New York Red Bulls   |       4 |\n",
      "| Toronto FC           |       3 |\n",
      "| New York City FC     |       2 |\n",
      "| Philadelphia Union   |       2 |\n",
      "| Chicago Fire         |       1 |\n",
      "| San Jose Earthquakes |       1 |\n",
      "| Colorado Rapids      |       1 |\n",
      "| Columbus Crew SC     |       1 |\n"
     ]
    }
   ],
   "source": [
    "# Hosting on English national TV\n",
    "es_home_team_pivot = english.pivot('Home').rename(column_names = {'Count': 'Matches'}).order_by(\n",
    "    'Matches',\n",
    "    reverse=True\n",
    ")\n",
    "es_home_team_pivot.print_table()"
   ]
  },
  {
   "cell_type": "markdown",
   "metadata": {},
   "source": [
    "## Does the same match appear on more than one network?\n",
    "\n",
    "The answer is **NO**. This is not an efficient way to get at the answer, but it is there."
   ]
  },
  {
   "cell_type": "code",
   "execution_count": 11,
   "metadata": {
    "collapsed": false
   },
   "outputs": [
    {
     "name": "stdout",
     "output_type": "stream",
     "text": [
      "| Match                                        | False | True |\n",
      "| -------------------------------------------- | ----- | ---- |\n",
      "| Sporting Kansas City vs. New York City FC    |     1 |    0 |\n",
      "| LA Galaxy vs. Portland Timbers               |     1 |    0 |\n",
      "| LA Galaxy vs. LAFC                           |     2 |    0 |\n",
      "| LA Galaxy vs. Sporting Kansas City           |     1 |    0 |\n",
      "| Atlanta United vs. New York City FC          |     1 |    0 |\n",
      "| Portland Timbers vs. New York City FC        |     1 |    0 |\n",
      "| LAFC vs. Seattle Sounders                    |     1 |    0 |\n",
      "| Toronto FC vs. Seattle Sounders              |     1 |    0 |\n",
      "| Orlando City SC vs. Atlanta United           |     2 |    0 |\n",
      "| LAFC vs. New York City FC                    |     1 |    0 |\n",
      "| Portland Timbers vs. LAFC                    |     1 |    0 |\n",
      "| Atlanta United vs. New York Red Bulls        |     1 |    0 |\n",
      "| Sporting Kansas City vs. Columbus Crew SC    |     1 |    0 |\n",
      "| Sporting Kansas City vs. Minnesota United FC |     1 |    0 |\n",
      "| Atlanta United vs. Portland Timbers          |     1 |    0 |\n",
      "| Seattle Sounders vs. Portland Timbers        |     1 |    0 |\n",
      "| Toronto FC vs. New York Red Bulls            |     1 |    0 |\n",
      "| LAFC vs. Orlando City SC                     |     1 |    0 |\n",
      "| New York City FC vs. New York Red Bulls      |     2 |    0 |\n",
      "| Atlanta United vs. Seattle Sounders          |     1 |    0 |\n",
      "| LA Galaxy vs. Orlando City SC                |     1 |    0 |\n",
      "| New York Red Bulls vs. LAFC                  |     1 |    0 |\n",
      "| D.C. United vs. Orlando City SC              |     1 |    0 |\n",
      "| Seattle Sounders vs. FC Dallas               |     1 |    0 |\n",
      "| D.C. United vs. New England Revolution       |     1 |    0 |\n",
      "| New York Red Bulls vs. D.C. United           |     1 |    0 |\n",
      "| Portland Timbers vs. Seattle Sounders        |     2 |    0 |\n",
      "| D.C. United vs. Atlanta United               |     1 |    0 |\n",
      "| Chicago Fire vs. Orlando City SC             |     1 |    0 |\n",
      "| LA Galaxy vs. Seattle Sounders               |     1 |    0 |\n",
      "| Sporting Kansas City vs. Real Salt Lake      |     1 |    0 |\n",
      "| Seattle Sounders vs. LAFC                    |     1 |    0 |\n",
      "| Atlanta United vs. D.C. United               |     1 |    1 |\n",
      "| San Jose Earthquakes vs. New York City FC    |     1 |    0 |\n",
      "| Atlanta United vs. LAFC                      |     1 |    0 |\n",
      "| Orlando City SC vs. Portland Timbers         |     1 |    0 |\n",
      "| Philadelphia Union vs. Orlando City SC       |     1 |    0 |\n",
      "| Sporting Kansas City vs. Seattle Sounders    |     1 |    0 |\n",
      "| Seattle Sounders vs. Minnesota United FC     |     1 |    0 |\n",
      "| Colorado Rapids vs. Orlando City SC          |     1 |    0 |\n",
      "| New York Red Bulls vs. New York City FC      |     1 |    0 |\n",
      "| LAFC vs. D.C. United                         |     1 |    0 |\n",
      "| Portland Timbers vs. LA Galaxy               |     1 |    0 |\n",
      "| Columbus Crew SC vs. New York Red Bulls      |     1 |    0 |\n",
      "| Atlanta United vs. Orlando City SC           |     1 |    0 |\n",
      "| LAFC vs. Portland Timbers                    |     1 |    0 |\n",
      "| Orlando City SC vs. New York City FC         |     1 |    0 |\n",
      "| LAFC vs. LA Galaxy                           |     1 |    0 |\n",
      "| Portland Timbers vs. Houston Dynamo          |     1 |    0 |\n",
      "| Seattle Sounders vs. New York City FC        |     1 |    0 |\n",
      "| Atlanta United vs. Toronto FC                |     1 |    0 |\n",
      "| Toronto FC vs. New York City FC              |     1 |    0 |\n",
      "| Seattle Sounders vs. LA Galaxy               |     1 |    0 |\n",
      "| D.C. United vs. New York Red Bulls           |     1 |    0 |\n",
      "| Philadelphia Union vs. Sporting Kansas City  |     1 |    0 |\n",
      "| New York Red Bulls vs. Atlanta United        |     1 |    0 |\n",
      "| D.C. United vs. Chicago Fire                 |     1 |    0 |\n",
      "| Houston Dynamo vs. Atlanta United            |     0 |    1 |\n",
      "| Real Salt Lake vs. LAFC                      |     0 |    1 |\n",
      "| New York City FC vs. Orlando City SC         |     0 |    1 |\n",
      "| FC Dallas vs. Portland Timbers               |     0 |    1 |\n",
      "| Orlando City SC vs. New York Red Bulls       |     0 |    1 |\n",
      "| New York Red Bulls vs. Houston Dynamo        |     0 |    1 |\n",
      "| Chicago Fire vs. LA Galaxy                   |     0 |    1 |\n",
      "| New York Red Bulls vs. Chicago Fire          |     0 |    1 |\n",
      "| Philadelphia Union vs. D.C. United           |     0 |    1 |\n",
      "| LAFC vs. FC Dallas                           |     0 |    1 |\n",
      "| FC Dallas vs. LA Galaxy                      |     0 |    1 |\n",
      "| Chicago Fire vs. Houston Dynamo              |     0 |    1 |\n",
      "| Houston Dynamo vs. New York City FC          |     0 |    1 |\n",
      "| LA Galaxy vs. San Jose Earthquakes           |     0 |    1 |\n",
      "| Chicago Fire vs. San Jose Earthquakes        |     0 |    1 |\n",
      "| New York Red Bulls vs. FC Dallas             |     0 |    1 |\n",
      "| San Jose Earthquakes vs. LA Galaxy           |     0 |    1 |\n",
      "| Houston Dynamo vs. FC Dallas                 |     0 |    1 |\n",
      "| New York City FC vs. D.C. United             |     0 |    1 |\n",
      "| Colorado Rapids vs. Atlanta United           |     0 |    1 |\n",
      "| LAFC vs. San Jose Earthquakes                |     0 |    1 |\n",
      "| Chicago Fire vs. LAFC                        |     0 |    1 |\n",
      "| Atlanta United vs. New England Revolution    |     0 |    1 |\n",
      "| D.C. United vs. FC Dallas                    |     0 |    1 |\n"
     ]
    }
   ],
   "source": [
    "# this shows the number of matches that are both Spanish and English\n",
    "# BUT **** dates are not included\n",
    "matches_pivot = both.pivot('Match', 'Spanish')\n",
    "matches_pivot.print_table(max_column_width=None, max_rows=None)"
   ]
  },
  {
   "cell_type": "code",
   "execution_count": 12,
   "metadata": {
    "collapsed": false
   },
   "outputs": [
    {
     "name": "stdout",
     "output_type": "stream",
     "text": [
      "| Match                                   | False | True |\n",
      "| --------------------------------------- | ----- | ---- |\n",
      "| LA Galaxy vs. LAFC                      |     2 |    0 |\n",
      "| Orlando City SC vs. Atlanta United      |     2 |    0 |\n",
      "| New York City FC vs. New York Red Bulls |     2 |    0 |\n",
      "| Portland Timbers vs. Seattle Sounders   |     2 |    0 |\n",
      "| Atlanta United vs. D.C. United          |     1 |    1 |\n",
      "\n",
      "list of matches:\n",
      "\n",
      "('Orlando City SC vs. Atlanta United', 'LA Galaxy vs. LAFC', 'Atlanta United vs. D.C. United', 'New York City FC vs. New York Red Bulls', 'Portland Timbers vs. Seattle Sounders')\n"
     ]
    }
   ],
   "source": [
    "# this finds any matchup in the table above that falls in both spanish/english or more than one of the other.\n",
    "more_matches = matches_pivot.where(\n",
    "    lambda row: row['False'] > 1 or row['True'] > 1 or (row['True'] > 0 and row['False'] > 0)\n",
    ")\n",
    "more_matches.print_table(max_column_width=None)\n",
    "\n",
    "more_matches_names = more_matches.columns['Match'].values_distinct()\n",
    "print('\\nlist of matches:\\n')\n",
    "print(more_matches_names)"
   ]
  },
  {
   "cell_type": "code",
   "execution_count": 13,
   "metadata": {
    "collapsed": false
   },
   "outputs": [
    {
     "name": "stdout",
     "output_type": "stream",
     "text": [
      "|       Date | Match                                   | Network   | Spanish |\n",
      "| ---------- | --------------------------------------- | --------- | ------- |\n",
      "| 2018-03-11 | Atlanta United vs. D.C. United          | ESPN      |   False |\n",
      "| 2018-03-31 | LA Galaxy vs. LAFC                      | FOX       |   False |\n",
      "| 2018-05-13 | Orlando City SC vs. Atlanta United      | FS1       |   False |\n",
      "| 2018-05-13 | Portland Timbers vs. Seattle Sounders   | ESPN      |   False |\n",
      "| 2018-07-08 | New York City FC vs. New York Red Bulls | FS1       |   False |\n",
      "| 2018-07-21 | Atlanta United vs. D.C. United          | Univision |    True |\n",
      "| 2018-08-22 | New York City FC vs. New York Red Bulls | FS1       |   False |\n",
      "| 2018-08-24 | LA Galaxy vs. LAFC                      | ESPN      |   False |\n",
      "| 2018-08-24 | Orlando City SC vs. Atlanta United      | ESPN      |   False |\n",
      "| 2018-08-26 | Portland Timbers vs. Seattle Sounders   | FS1       |   False |\n"
     ]
    }
   ],
   "source": [
    "# this takes that list of matchups above and prints out the details with dates, etc.\n",
    "more_matches_details = both.where(lambda row: row['Match'] in more_matches_names)\n",
    "match_details_ordered = more_matches_details.order_by('Match').order_by('Date')\n",
    "match_details_ordered.select(['Date', 'Match', 'Network', 'Spanish']).print_table(max_column_width=None)"
   ]
  },
  {
   "cell_type": "code",
   "execution_count": 14,
   "metadata": {
    "collapsed": false
   },
   "outputs": [
    {
     "name": "stdout",
     "output_type": "stream",
     "text": [
      "| Match                          | False | True |\n",
      "| ------------------------------ | ----- | ---- |\n",
      "| Atlanta United vs. D.C. United |     1 |    1 |\n",
      "|       Date | Match                          | Network   | Spanish |\n",
      "| ---------- | ------------------------------ | --------- | ------- |\n",
      "| 2018-03-11 | Atlanta United vs. D.C. United | ESPN      |   False |\n",
      "| 2018-07-21 | Atlanta United vs. D.C. United | Univision |    True |\n"
     ]
    }
   ],
   "source": [
    "# one matchup was in both english and spanish, but they are different days.\n",
    "both_es_en = matches_pivot.where(lambda row: row['False'] > 0 and row['True'] > 0)\n",
    "both_es_en.print_table(max_column_width=None)\n",
    "atl_dc = both.where(lambda row: row['Match'] == 'Atlanta United vs. D.C. United')\n",
    "atl_dc.select(['Date', 'Match', 'Network', 'Spanish']).print_table(max_column_width=None)"
   ]
  },
  {
   "cell_type": "code",
   "execution_count": null,
   "metadata": {
    "collapsed": true
   },
   "outputs": [],
   "source": []
  }
 ],
 "metadata": {
  "kernelspec": {
   "display_name": "Python 3",
   "language": "python",
   "name": "python3"
  },
  "language_info": {
   "codemirror_mode": {
    "name": "ipython",
    "version": 3
   },
   "file_extension": ".py",
   "mimetype": "text/x-python",
   "name": "python",
   "nbconvert_exporter": "python",
   "pygments_lexer": "ipython3",
   "version": "3.5.1"
  }
 },
 "nbformat": 4,
 "nbformat_minor": 0
}
